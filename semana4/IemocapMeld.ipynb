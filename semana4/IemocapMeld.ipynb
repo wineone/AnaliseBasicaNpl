{
 "cells": [
  {
   "cell_type": "markdown",
   "metadata": {},
   "source": [
    "### O intuito desse notebook é mesclar os dados dos bancos de dados iemocap e meld e tentar conseguir melhores resultados"
   ]
  },
  {
   "cell_type": "markdown",
   "metadata": {},
   "source": [
    "#### Vamos carregar os dados e verificar como eles estão definidos para podermos junta-los"
   ]
  },
  {
   "cell_type": "code",
   "execution_count": 351,
   "metadata": {},
   "outputs": [],
   "source": [
    "import pandas as pd # Dataframe\n",
    "\n",
    "from nltk.stem import WordNetLemmatizer # Lematização das palavras\n",
    "\n",
    "from matplotlib import pyplot as plt # plot dos gráficos\n",
    "import matplotlib\n",
    "import matplotlib.patches as mpatches\n",
    "\n",
    "from sklearn.feature_extraction.text import CountVectorizer # bagging of words\n",
    "from sklearn.feature_extraction.text import TfidfVectorizer\n",
    " \n",
    "from sklearn.decomposition import TruncatedSVD # redução da dimensionalidade\n",
    "\n",
    "from sklearn.linear_model import LogisticRegression # modelos a serem testados\n",
    "from sklearn.linear_model import RidgeClassifier\n",
    "from sklearn.svm import LinearSVC\n",
    "\n",
    "from sklearn.model_selection import GridSearchCV # hiperparametrização\n",
    "\n",
    "from sklearn.model_selection import train_test_split\n",
    "\n",
    "from sklearn.metrics import classification_report, confusion_matrix\n",
    "\n",
    "from sklearn.ensemble import VotingClassifier\n",
    "\n",
    "import seaborn as sn\n",
    "\n",
    "from nltk.corpus import stopwords"
   ]
  },
  {
   "cell_type": "code",
   "execution_count": 352,
   "metadata": {},
   "outputs": [],
   "source": [
    "iemocapData = pd.read_csv(\"dataIemocap\")\n",
    "iemocapTarget = pd.read_csv(\"targetIemocap\")"
   ]
  },
  {
   "cell_type": "code",
   "execution_count": 353,
   "metadata": {},
   "outputs": [
    {
     "data": {
      "text/html": [
       "<div>\n",
       "<style scoped>\n",
       "    .dataframe tbody tr th:only-of-type {\n",
       "        vertical-align: middle;\n",
       "    }\n",
       "\n",
       "    .dataframe tbody tr th {\n",
       "        vertical-align: top;\n",
       "    }\n",
       "\n",
       "    .dataframe thead th {\n",
       "        text-align: right;\n",
       "    }\n",
       "</style>\n",
       "<table border=\"1\" class=\"dataframe\">\n",
       "  <thead>\n",
       "    <tr style=\"text-align: right;\">\n",
       "      <th></th>\n",
       "      <th>Session_ID</th>\n",
       "      <th>Time_Record</th>\n",
       "      <th>Transcription</th>\n",
       "    </tr>\n",
       "  </thead>\n",
       "  <tbody>\n",
       "    <tr>\n",
       "      <td>0</td>\n",
       "      <td>Ses01F_impro01_F000</td>\n",
       "      <td>[006.2901-008.2357]:</td>\n",
       "      <td>Excuse me.</td>\n",
       "    </tr>\n",
       "    <tr>\n",
       "      <td>1</td>\n",
       "      <td>Ses01F_impro01_M000</td>\n",
       "      <td>[007.5712-010.4750]:</td>\n",
       "      <td>Do you have your forms?</td>\n",
       "    </tr>\n",
       "    <tr>\n",
       "      <td>2</td>\n",
       "      <td>Ses01F_impro01_F001</td>\n",
       "      <td>[010.0100-011.3925]:</td>\n",
       "      <td>Yeah.</td>\n",
       "    </tr>\n",
       "    <tr>\n",
       "      <td>3</td>\n",
       "      <td>Ses01F_impro01_M001</td>\n",
       "      <td>[010.9266-014.6649]:</td>\n",
       "      <td>Let me see them.</td>\n",
       "    </tr>\n",
       "    <tr>\n",
       "      <td>4</td>\n",
       "      <td>Ses01F_impro01_F002</td>\n",
       "      <td>[014.8872-018.0175]:</td>\n",
       "      <td>Is there a problem?</td>\n",
       "    </tr>\n",
       "    <tr>\n",
       "      <td>...</td>\n",
       "      <td>...</td>\n",
       "      <td>...</td>\n",
       "      <td>...</td>\n",
       "    </tr>\n",
       "    <tr>\n",
       "      <td>10234</td>\n",
       "      <td>Ses05M_script03_2_M044</td>\n",
       "      <td>[255.8600-260.3300]:</td>\n",
       "      <td>oh! Marry you again? I wouldn't marry you agai...</td>\n",
       "    </tr>\n",
       "    <tr>\n",
       "      <td>10235</td>\n",
       "      <td>Ses05M_script03_2_F042</td>\n",
       "      <td>[259.4500-260.4100]:</td>\n",
       "      <td>Beast</td>\n",
       "    </tr>\n",
       "    <tr>\n",
       "      <td>10236</td>\n",
       "      <td>Ses05M_script03_2_M045</td>\n",
       "      <td>[260.3400-266.3500]:</td>\n",
       "      <td>You're a wicked little vampire.  And I pray to...</td>\n",
       "    </tr>\n",
       "    <tr>\n",
       "      <td>10237</td>\n",
       "      <td>Ses05M_script03_2_F043</td>\n",
       "      <td>[260.4200-261.4300]:</td>\n",
       "      <td>Brute</td>\n",
       "    </tr>\n",
       "    <tr>\n",
       "      <td>10238</td>\n",
       "      <td>Ses05M_script03_2_F044</td>\n",
       "      <td>[261.9100-263.0700]:</td>\n",
       "      <td>pig</td>\n",
       "    </tr>\n",
       "  </tbody>\n",
       "</table>\n",
       "<p>10239 rows × 3 columns</p>\n",
       "</div>"
      ],
      "text/plain": [
       "                   Session_ID           Time_Record  \\\n",
       "0         Ses01F_impro01_F000  [006.2901-008.2357]:   \n",
       "1         Ses01F_impro01_M000  [007.5712-010.4750]:   \n",
       "2         Ses01F_impro01_F001  [010.0100-011.3925]:   \n",
       "3         Ses01F_impro01_M001  [010.9266-014.6649]:   \n",
       "4         Ses01F_impro01_F002  [014.8872-018.0175]:   \n",
       "...                       ...                   ...   \n",
       "10234  Ses05M_script03_2_M044  [255.8600-260.3300]:   \n",
       "10235  Ses05M_script03_2_F042  [259.4500-260.4100]:   \n",
       "10236  Ses05M_script03_2_M045  [260.3400-266.3500]:   \n",
       "10237  Ses05M_script03_2_F043  [260.4200-261.4300]:   \n",
       "10238  Ses05M_script03_2_F044  [261.9100-263.0700]:   \n",
       "\n",
       "                                           Transcription  \n",
       "0                                             Excuse me.  \n",
       "1                                Do you have your forms?  \n",
       "2                                                  Yeah.  \n",
       "3                                       Let me see them.  \n",
       "4                                    Is there a problem?  \n",
       "...                                                  ...  \n",
       "10234  oh! Marry you again? I wouldn't marry you agai...  \n",
       "10235                                              Beast  \n",
       "10236  You're a wicked little vampire.  And I pray to...  \n",
       "10237                                              Brute  \n",
       "10238                                                pig  \n",
       "\n",
       "[10239 rows x 3 columns]"
      ]
     },
     "execution_count": 353,
     "metadata": {},
     "output_type": "execute_result"
    }
   ],
   "source": [
    "iemocapData"
   ]
  },
  {
   "cell_type": "code",
   "execution_count": 354,
   "metadata": {},
   "outputs": [
    {
     "data": {
      "text/html": [
       "<div>\n",
       "<style scoped>\n",
       "    .dataframe tbody tr th:only-of-type {\n",
       "        vertical-align: middle;\n",
       "    }\n",
       "\n",
       "    .dataframe tbody tr th {\n",
       "        vertical-align: top;\n",
       "    }\n",
       "\n",
       "    .dataframe thead th {\n",
       "        text-align: right;\n",
       "    }\n",
       "</style>\n",
       "<table border=\"1\" class=\"dataframe\">\n",
       "  <thead>\n",
       "    <tr style=\"text-align: right;\">\n",
       "      <th></th>\n",
       "      <th>Session_ID</th>\n",
       "      <th>Emotion</th>\n",
       "      <th>Valence</th>\n",
       "      <th>Activation</th>\n",
       "      <th>Dominance</th>\n",
       "    </tr>\n",
       "  </thead>\n",
       "  <tbody>\n",
       "    <tr>\n",
       "      <td>0</td>\n",
       "      <td>Ses01F_impro01_F000</td>\n",
       "      <td>neu</td>\n",
       "      <td>2.5</td>\n",
       "      <td>2.5</td>\n",
       "      <td>2.5</td>\n",
       "    </tr>\n",
       "    <tr>\n",
       "      <td>1</td>\n",
       "      <td>Ses01F_impro01_F001</td>\n",
       "      <td>neu</td>\n",
       "      <td>2.5</td>\n",
       "      <td>2.5</td>\n",
       "      <td>2.5</td>\n",
       "    </tr>\n",
       "    <tr>\n",
       "      <td>2</td>\n",
       "      <td>Ses01F_impro01_F002</td>\n",
       "      <td>neu</td>\n",
       "      <td>2.5</td>\n",
       "      <td>2.5</td>\n",
       "      <td>2.5</td>\n",
       "    </tr>\n",
       "    <tr>\n",
       "      <td>3</td>\n",
       "      <td>Ses01F_impro01_F003</td>\n",
       "      <td>xxx</td>\n",
       "      <td>2.5</td>\n",
       "      <td>3.0</td>\n",
       "      <td>3.0</td>\n",
       "    </tr>\n",
       "    <tr>\n",
       "      <td>4</td>\n",
       "      <td>Ses01F_impro01_F004</td>\n",
       "      <td>xxx</td>\n",
       "      <td>2.5</td>\n",
       "      <td>3.0</td>\n",
       "      <td>2.5</td>\n",
       "    </tr>\n",
       "    <tr>\n",
       "      <td>...</td>\n",
       "      <td>...</td>\n",
       "      <td>...</td>\n",
       "      <td>...</td>\n",
       "      <td>...</td>\n",
       "      <td>...</td>\n",
       "    </tr>\n",
       "    <tr>\n",
       "      <td>10034</td>\n",
       "      <td>Ses05M_script03_2_M041</td>\n",
       "      <td>ang</td>\n",
       "      <td>1.0</td>\n",
       "      <td>4.5</td>\n",
       "      <td>5.0</td>\n",
       "    </tr>\n",
       "    <tr>\n",
       "      <td>10035</td>\n",
       "      <td>Ses05M_script03_2_M042</td>\n",
       "      <td>ang</td>\n",
       "      <td>1.0</td>\n",
       "      <td>4.5</td>\n",
       "      <td>4.5</td>\n",
       "    </tr>\n",
       "    <tr>\n",
       "      <td>10036</td>\n",
       "      <td>Ses05M_script03_2_M043</td>\n",
       "      <td>ang</td>\n",
       "      <td>1.5</td>\n",
       "      <td>4.0</td>\n",
       "      <td>4.5</td>\n",
       "    </tr>\n",
       "    <tr>\n",
       "      <td>10037</td>\n",
       "      <td>Ses05M_script03_2_M044</td>\n",
       "      <td>ang</td>\n",
       "      <td>1.0</td>\n",
       "      <td>5.0</td>\n",
       "      <td>5.0</td>\n",
       "    </tr>\n",
       "    <tr>\n",
       "      <td>10038</td>\n",
       "      <td>Ses05M_script03_2_M045</td>\n",
       "      <td>ang</td>\n",
       "      <td>1.0</td>\n",
       "      <td>5.0</td>\n",
       "      <td>5.0</td>\n",
       "    </tr>\n",
       "  </tbody>\n",
       "</table>\n",
       "<p>10039 rows × 5 columns</p>\n",
       "</div>"
      ],
      "text/plain": [
       "                   Session_ID Emotion  Valence  Activation  Dominance\n",
       "0         Ses01F_impro01_F000     neu      2.5         2.5        2.5\n",
       "1         Ses01F_impro01_F001     neu      2.5         2.5        2.5\n",
       "2         Ses01F_impro01_F002     neu      2.5         2.5        2.5\n",
       "3         Ses01F_impro01_F003     xxx      2.5         3.0        3.0\n",
       "4         Ses01F_impro01_F004     xxx      2.5         3.0        2.5\n",
       "...                       ...     ...      ...         ...        ...\n",
       "10034  Ses05M_script03_2_M041     ang      1.0         4.5        5.0\n",
       "10035  Ses05M_script03_2_M042     ang      1.0         4.5        4.5\n",
       "10036  Ses05M_script03_2_M043     ang      1.5         4.0        4.5\n",
       "10037  Ses05M_script03_2_M044     ang      1.0         5.0        5.0\n",
       "10038  Ses05M_script03_2_M045     ang      1.0         5.0        5.0\n",
       "\n",
       "[10039 rows x 5 columns]"
      ]
     },
     "execution_count": 354,
     "metadata": {},
     "output_type": "execute_result"
    }
   ],
   "source": [
    "iemocapTarget"
   ]
  },
  {
   "cell_type": "markdown",
   "metadata": {},
   "source": [
    "#### Vamos juntar todos os dados para termos uma representação em uma unica tabela dos dados do iemocap"
   ]
  },
  {
   "cell_type": "code",
   "execution_count": 355,
   "metadata": {},
   "outputs": [],
   "source": [
    "mergedIemocap = pd.merge(iemocapData,iemocapTarget,on = \"Session_ID\")"
   ]
  },
  {
   "cell_type": "code",
   "execution_count": 356,
   "metadata": {},
   "outputs": [
    {
     "data": {
      "text/html": [
       "<div>\n",
       "<style scoped>\n",
       "    .dataframe tbody tr th:only-of-type {\n",
       "        vertical-align: middle;\n",
       "    }\n",
       "\n",
       "    .dataframe tbody tr th {\n",
       "        vertical-align: top;\n",
       "    }\n",
       "\n",
       "    .dataframe thead th {\n",
       "        text-align: right;\n",
       "    }\n",
       "</style>\n",
       "<table border=\"1\" class=\"dataframe\">\n",
       "  <thead>\n",
       "    <tr style=\"text-align: right;\">\n",
       "      <th></th>\n",
       "      <th>Session_ID</th>\n",
       "      <th>Time_Record</th>\n",
       "      <th>Transcription</th>\n",
       "      <th>Emotion</th>\n",
       "      <th>Valence</th>\n",
       "      <th>Activation</th>\n",
       "      <th>Dominance</th>\n",
       "    </tr>\n",
       "  </thead>\n",
       "  <tbody>\n",
       "    <tr>\n",
       "      <td>0</td>\n",
       "      <td>Ses01F_impro01_F000</td>\n",
       "      <td>[006.2901-008.2357]:</td>\n",
       "      <td>Excuse me.</td>\n",
       "      <td>neu</td>\n",
       "      <td>2.5</td>\n",
       "      <td>2.5</td>\n",
       "      <td>2.5</td>\n",
       "    </tr>\n",
       "    <tr>\n",
       "      <td>1</td>\n",
       "      <td>Ses01F_impro01_M000</td>\n",
       "      <td>[007.5712-010.4750]:</td>\n",
       "      <td>Do you have your forms?</td>\n",
       "      <td>fru</td>\n",
       "      <td>2.5</td>\n",
       "      <td>2.0</td>\n",
       "      <td>2.5</td>\n",
       "    </tr>\n",
       "    <tr>\n",
       "      <td>2</td>\n",
       "      <td>Ses01F_impro01_F001</td>\n",
       "      <td>[010.0100-011.3925]:</td>\n",
       "      <td>Yeah.</td>\n",
       "      <td>neu</td>\n",
       "      <td>2.5</td>\n",
       "      <td>2.5</td>\n",
       "      <td>2.5</td>\n",
       "    </tr>\n",
       "    <tr>\n",
       "      <td>3</td>\n",
       "      <td>Ses01F_impro01_M001</td>\n",
       "      <td>[010.9266-014.6649]:</td>\n",
       "      <td>Let me see them.</td>\n",
       "      <td>fru</td>\n",
       "      <td>2.5</td>\n",
       "      <td>2.0</td>\n",
       "      <td>2.5</td>\n",
       "    </tr>\n",
       "    <tr>\n",
       "      <td>4</td>\n",
       "      <td>Ses01F_impro01_F002</td>\n",
       "      <td>[014.8872-018.0175]:</td>\n",
       "      <td>Is there a problem?</td>\n",
       "      <td>neu</td>\n",
       "      <td>2.5</td>\n",
       "      <td>2.5</td>\n",
       "      <td>2.5</td>\n",
       "    </tr>\n",
       "    <tr>\n",
       "      <td>...</td>\n",
       "      <td>...</td>\n",
       "      <td>...</td>\n",
       "      <td>...</td>\n",
       "      <td>...</td>\n",
       "      <td>...</td>\n",
       "      <td>...</td>\n",
       "      <td>...</td>\n",
       "    </tr>\n",
       "    <tr>\n",
       "      <td>10034</td>\n",
       "      <td>Ses05M_script03_2_M044</td>\n",
       "      <td>[255.8600-260.3300]:</td>\n",
       "      <td>oh! Marry you again? I wouldn't marry you agai...</td>\n",
       "      <td>ang</td>\n",
       "      <td>1.0</td>\n",
       "      <td>5.0</td>\n",
       "      <td>5.0</td>\n",
       "    </tr>\n",
       "    <tr>\n",
       "      <td>10035</td>\n",
       "      <td>Ses05M_script03_2_F042</td>\n",
       "      <td>[259.4500-260.4100]:</td>\n",
       "      <td>Beast</td>\n",
       "      <td>ang</td>\n",
       "      <td>2.0</td>\n",
       "      <td>4.5</td>\n",
       "      <td>4.5</td>\n",
       "    </tr>\n",
       "    <tr>\n",
       "      <td>10036</td>\n",
       "      <td>Ses05M_script03_2_M045</td>\n",
       "      <td>[260.3400-266.3500]:</td>\n",
       "      <td>You're a wicked little vampire.  And I pray to...</td>\n",
       "      <td>ang</td>\n",
       "      <td>1.0</td>\n",
       "      <td>5.0</td>\n",
       "      <td>5.0</td>\n",
       "    </tr>\n",
       "    <tr>\n",
       "      <td>10037</td>\n",
       "      <td>Ses05M_script03_2_F043</td>\n",
       "      <td>[260.4200-261.4300]:</td>\n",
       "      <td>Brute</td>\n",
       "      <td>ang</td>\n",
       "      <td>1.5</td>\n",
       "      <td>4.5</td>\n",
       "      <td>5.0</td>\n",
       "    </tr>\n",
       "    <tr>\n",
       "      <td>10038</td>\n",
       "      <td>Ses05M_script03_2_F044</td>\n",
       "      <td>[261.9100-263.0700]:</td>\n",
       "      <td>pig</td>\n",
       "      <td>ang</td>\n",
       "      <td>1.0</td>\n",
       "      <td>4.5</td>\n",
       "      <td>5.0</td>\n",
       "    </tr>\n",
       "  </tbody>\n",
       "</table>\n",
       "<p>10039 rows × 7 columns</p>\n",
       "</div>"
      ],
      "text/plain": [
       "                   Session_ID           Time_Record  \\\n",
       "0         Ses01F_impro01_F000  [006.2901-008.2357]:   \n",
       "1         Ses01F_impro01_M000  [007.5712-010.4750]:   \n",
       "2         Ses01F_impro01_F001  [010.0100-011.3925]:   \n",
       "3         Ses01F_impro01_M001  [010.9266-014.6649]:   \n",
       "4         Ses01F_impro01_F002  [014.8872-018.0175]:   \n",
       "...                       ...                   ...   \n",
       "10034  Ses05M_script03_2_M044  [255.8600-260.3300]:   \n",
       "10035  Ses05M_script03_2_F042  [259.4500-260.4100]:   \n",
       "10036  Ses05M_script03_2_M045  [260.3400-266.3500]:   \n",
       "10037  Ses05M_script03_2_F043  [260.4200-261.4300]:   \n",
       "10038  Ses05M_script03_2_F044  [261.9100-263.0700]:   \n",
       "\n",
       "                                           Transcription Emotion  Valence  \\\n",
       "0                                             Excuse me.     neu      2.5   \n",
       "1                                Do you have your forms?     fru      2.5   \n",
       "2                                                  Yeah.     neu      2.5   \n",
       "3                                       Let me see them.     fru      2.5   \n",
       "4                                    Is there a problem?     neu      2.5   \n",
       "...                                                  ...     ...      ...   \n",
       "10034  oh! Marry you again? I wouldn't marry you agai...     ang      1.0   \n",
       "10035                                              Beast     ang      2.0   \n",
       "10036  You're a wicked little vampire.  And I pray to...     ang      1.0   \n",
       "10037                                              Brute     ang      1.5   \n",
       "10038                                                pig     ang      1.0   \n",
       "\n",
       "       Activation  Dominance  \n",
       "0             2.5        2.5  \n",
       "1             2.0        2.5  \n",
       "2             2.5        2.5  \n",
       "3             2.0        2.5  \n",
       "4             2.5        2.5  \n",
       "...           ...        ...  \n",
       "10034         5.0        5.0  \n",
       "10035         4.5        4.5  \n",
       "10036         5.0        5.0  \n",
       "10037         4.5        5.0  \n",
       "10038         4.5        5.0  \n",
       "\n",
       "[10039 rows x 7 columns]"
      ]
     },
     "execution_count": 356,
     "metadata": {},
     "output_type": "execute_result"
    }
   ],
   "source": [
    "mergedIemocap"
   ]
  },
  {
   "cell_type": "markdown",
   "metadata": {},
   "source": [
    "##  Vamos agora carregar os dados do meld"
   ]
  },
  {
   "cell_type": "code",
   "execution_count": 357,
   "metadata": {},
   "outputs": [],
   "source": [
    "meld = pd.read_csv(\"dataMeld\")"
   ]
  },
  {
   "cell_type": "code",
   "execution_count": 358,
   "metadata": {},
   "outputs": [
    {
     "data": {
      "text/html": [
       "<div>\n",
       "<style scoped>\n",
       "    .dataframe tbody tr th:only-of-type {\n",
       "        vertical-align: middle;\n",
       "    }\n",
       "\n",
       "    .dataframe tbody tr th {\n",
       "        vertical-align: top;\n",
       "    }\n",
       "\n",
       "    .dataframe thead th {\n",
       "        text-align: right;\n",
       "    }\n",
       "</style>\n",
       "<table border=\"1\" class=\"dataframe\">\n",
       "  <thead>\n",
       "    <tr style=\"text-align: right;\">\n",
       "      <th></th>\n",
       "      <th>Session_ID</th>\n",
       "      <th>Time_Record</th>\n",
       "      <th>Transcription</th>\n",
       "      <th>Emotion</th>\n",
       "      <th>Sentiment</th>\n",
       "    </tr>\n",
       "  </thead>\n",
       "  <tbody>\n",
       "    <tr>\n",
       "      <td>0</td>\n",
       "      <td>Sess4_E7_ID1</td>\n",
       "      <td>[00:20:57,256-00:21:00,049]:</td>\n",
       "      <td>Oh my God, he's lost it. He's totally lost it.</td>\n",
       "      <td>sadness</td>\n",
       "      <td>negative</td>\n",
       "    </tr>\n",
       "    <tr>\n",
       "      <td>1</td>\n",
       "      <td>Sess4_E7_ID2</td>\n",
       "      <td>[00:21:01,927-00:21:03,261]:</td>\n",
       "      <td>What?</td>\n",
       "      <td>surprise</td>\n",
       "      <td>negative</td>\n",
       "    </tr>\n",
       "    <tr>\n",
       "      <td>2</td>\n",
       "      <td>Sess4_E4_ID3</td>\n",
       "      <td>[00:12:24,660-00:12:30,915]:</td>\n",
       "      <td>Or! Or, we could go to the bank, close our acc...</td>\n",
       "      <td>neutral</td>\n",
       "      <td>neutral</td>\n",
       "    </tr>\n",
       "    <tr>\n",
       "      <td>3</td>\n",
       "      <td>Sess4_E4_ID4</td>\n",
       "      <td>[00:12:32,334-00:12:33,960]:</td>\n",
       "      <td>You're a genius!</td>\n",
       "      <td>joy</td>\n",
       "      <td>positive</td>\n",
       "    </tr>\n",
       "    <tr>\n",
       "      <td>4</td>\n",
       "      <td>Sess4_E4_ID5</td>\n",
       "      <td>[00:12:34,211-00:12:37,505]:</td>\n",
       "      <td>Aww, man, now we won't be bank buddies!</td>\n",
       "      <td>sadness</td>\n",
       "      <td>negative</td>\n",
       "    </tr>\n",
       "    <tr>\n",
       "      <td>...</td>\n",
       "      <td>...</td>\n",
       "      <td>...</td>\n",
       "      <td>...</td>\n",
       "      <td>...</td>\n",
       "      <td>...</td>\n",
       "    </tr>\n",
       "    <tr>\n",
       "      <td>13703</td>\n",
       "      <td>Sess2_E3_ID13704</td>\n",
       "      <td>[00:00:48,173-00:00:50,799]:</td>\n",
       "      <td>You or me?</td>\n",
       "      <td>neutral</td>\n",
       "      <td>neutral</td>\n",
       "    </tr>\n",
       "    <tr>\n",
       "      <td>13704</td>\n",
       "      <td>Sess2_E3_ID13705</td>\n",
       "      <td>[00:00:51,009-00:00:53,594]:</td>\n",
       "      <td>I got it. Uh, Joey, women don't have Adam's ap...</td>\n",
       "      <td>neutral</td>\n",
       "      <td>neutral</td>\n",
       "    </tr>\n",
       "    <tr>\n",
       "      <td>13705</td>\n",
       "      <td>Sess2_E3_ID13706</td>\n",
       "      <td>[00:01:00,518-00:01:03,520]:</td>\n",
       "      <td>You guys are messing with me, right?</td>\n",
       "      <td>surprise</td>\n",
       "      <td>positive</td>\n",
       "    </tr>\n",
       "    <tr>\n",
       "      <td>13706</td>\n",
       "      <td>Sess2_E3_ID13707</td>\n",
       "      <td>[00:01:05,398-00:01:07,274]:</td>\n",
       "      <td>Yeah.</td>\n",
       "      <td>neutral</td>\n",
       "      <td>neutral</td>\n",
       "    </tr>\n",
       "    <tr>\n",
       "      <td>13707</td>\n",
       "      <td>Sess2_E3_ID13708</td>\n",
       "      <td>[00:01:08,401-00:01:12,071]:</td>\n",
       "      <td>That was a good one. For a second there, I was...</td>\n",
       "      <td>joy</td>\n",
       "      <td>positive</td>\n",
       "    </tr>\n",
       "  </tbody>\n",
       "</table>\n",
       "<p>13708 rows × 5 columns</p>\n",
       "</div>"
      ],
      "text/plain": [
       "             Session_ID                   Time_Record  \\\n",
       "0          Sess4_E7_ID1  [00:20:57,256-00:21:00,049]:   \n",
       "1          Sess4_E7_ID2  [00:21:01,927-00:21:03,261]:   \n",
       "2          Sess4_E4_ID3  [00:12:24,660-00:12:30,915]:   \n",
       "3          Sess4_E4_ID4  [00:12:32,334-00:12:33,960]:   \n",
       "4          Sess4_E4_ID5  [00:12:34,211-00:12:37,505]:   \n",
       "...                 ...                           ...   \n",
       "13703  Sess2_E3_ID13704  [00:00:48,173-00:00:50,799]:   \n",
       "13704  Sess2_E3_ID13705  [00:00:51,009-00:00:53,594]:   \n",
       "13705  Sess2_E3_ID13706  [00:01:00,518-00:01:03,520]:   \n",
       "13706  Sess2_E3_ID13707  [00:01:05,398-00:01:07,274]:   \n",
       "13707  Sess2_E3_ID13708  [00:01:08,401-00:01:12,071]:   \n",
       "\n",
       "                                           Transcription   Emotion Sentiment  \n",
       "0         Oh my God, he's lost it. He's totally lost it.   sadness  negative  \n",
       "1                                                  What?  surprise  negative  \n",
       "2      Or! Or, we could go to the bank, close our acc...   neutral   neutral  \n",
       "3                                       You're a genius!       joy  positive  \n",
       "4                Aww, man, now we won't be bank buddies!   sadness  negative  \n",
       "...                                                  ...       ...       ...  \n",
       "13703                                         You or me?   neutral   neutral  \n",
       "13704  I got it. Uh, Joey, women don't have Adam's ap...   neutral   neutral  \n",
       "13705               You guys are messing with me, right?  surprise  positive  \n",
       "13706                                              Yeah.   neutral   neutral  \n",
       "13707  That was a good one. For a second there, I was...       joy  positive  \n",
       "\n",
       "[13708 rows x 5 columns]"
      ]
     },
     "execution_count": 358,
     "metadata": {},
     "output_type": "execute_result"
    }
   ],
   "source": [
    "meld"
   ]
  },
  {
   "cell_type": "markdown",
   "metadata": {},
   "source": [
    "### Como temos dois datasets vamos tentar junta-los em um único dataset grande."
   ]
  },
  {
   "cell_type": "markdown",
   "metadata": {},
   "source": [
    "#### Vamos ver como está a distribuição das emoções para podermos pegar aqueles que tem emoções em comun."
   ]
  },
  {
   "cell_type": "code",
   "execution_count": 359,
   "metadata": {},
   "outputs": [
    {
     "data": {
      "text/html": [
       "<div>\n",
       "<style scoped>\n",
       "    .dataframe tbody tr th:only-of-type {\n",
       "        vertical-align: middle;\n",
       "    }\n",
       "\n",
       "    .dataframe tbody tr th {\n",
       "        vertical-align: top;\n",
       "    }\n",
       "\n",
       "    .dataframe thead th {\n",
       "        text-align: right;\n",
       "    }\n",
       "</style>\n",
       "<table border=\"1\" class=\"dataframe\">\n",
       "  <thead>\n",
       "    <tr style=\"text-align: right;\">\n",
       "      <th></th>\n",
       "      <th>Session_ID</th>\n",
       "      <th>Time_Record</th>\n",
       "      <th>Transcription</th>\n",
       "      <th>Sentiment</th>\n",
       "    </tr>\n",
       "    <tr>\n",
       "      <th>Emotion</th>\n",
       "      <th></th>\n",
       "      <th></th>\n",
       "      <th></th>\n",
       "      <th></th>\n",
       "    </tr>\n",
       "  </thead>\n",
       "  <tbody>\n",
       "    <tr>\n",
       "      <td>anger</td>\n",
       "      <td>1607</td>\n",
       "      <td>1607</td>\n",
       "      <td>1607</td>\n",
       "      <td>1607</td>\n",
       "    </tr>\n",
       "    <tr>\n",
       "      <td>disgust</td>\n",
       "      <td>361</td>\n",
       "      <td>361</td>\n",
       "      <td>361</td>\n",
       "      <td>361</td>\n",
       "    </tr>\n",
       "    <tr>\n",
       "      <td>fear</td>\n",
       "      <td>358</td>\n",
       "      <td>358</td>\n",
       "      <td>358</td>\n",
       "      <td>358</td>\n",
       "    </tr>\n",
       "    <tr>\n",
       "      <td>joy</td>\n",
       "      <td>2308</td>\n",
       "      <td>2308</td>\n",
       "      <td>2308</td>\n",
       "      <td>2308</td>\n",
       "    </tr>\n",
       "    <tr>\n",
       "      <td>neutral</td>\n",
       "      <td>6436</td>\n",
       "      <td>6436</td>\n",
       "      <td>6436</td>\n",
       "      <td>6436</td>\n",
       "    </tr>\n",
       "    <tr>\n",
       "      <td>sadness</td>\n",
       "      <td>1002</td>\n",
       "      <td>1002</td>\n",
       "      <td>1002</td>\n",
       "      <td>1002</td>\n",
       "    </tr>\n",
       "    <tr>\n",
       "      <td>surprise</td>\n",
       "      <td>1636</td>\n",
       "      <td>1636</td>\n",
       "      <td>1636</td>\n",
       "      <td>1636</td>\n",
       "    </tr>\n",
       "  </tbody>\n",
       "</table>\n",
       "</div>"
      ],
      "text/plain": [
       "          Session_ID  Time_Record  Transcription  Sentiment\n",
       "Emotion                                                    \n",
       "anger           1607         1607           1607       1607\n",
       "disgust          361          361            361        361\n",
       "fear             358          358            358        358\n",
       "joy             2308         2308           2308       2308\n",
       "neutral         6436         6436           6436       6436\n",
       "sadness         1002         1002           1002       1002\n",
       "surprise        1636         1636           1636       1636"
      ]
     },
     "execution_count": 359,
     "metadata": {},
     "output_type": "execute_result"
    }
   ],
   "source": [
    "meld.groupby(\"Emotion\").count()"
   ]
  },
  {
   "cell_type": "code",
   "execution_count": 360,
   "metadata": {},
   "outputs": [
    {
     "data": {
      "text/html": [
       "<div>\n",
       "<style scoped>\n",
       "    .dataframe tbody tr th:only-of-type {\n",
       "        vertical-align: middle;\n",
       "    }\n",
       "\n",
       "    .dataframe tbody tr th {\n",
       "        vertical-align: top;\n",
       "    }\n",
       "\n",
       "    .dataframe thead th {\n",
       "        text-align: right;\n",
       "    }\n",
       "</style>\n",
       "<table border=\"1\" class=\"dataframe\">\n",
       "  <thead>\n",
       "    <tr style=\"text-align: right;\">\n",
       "      <th></th>\n",
       "      <th>Session_ID</th>\n",
       "      <th>Time_Record</th>\n",
       "      <th>Transcription</th>\n",
       "      <th>Valence</th>\n",
       "      <th>Activation</th>\n",
       "      <th>Dominance</th>\n",
       "    </tr>\n",
       "    <tr>\n",
       "      <th>Emotion</th>\n",
       "      <th></th>\n",
       "      <th></th>\n",
       "      <th></th>\n",
       "      <th></th>\n",
       "      <th></th>\n",
       "      <th></th>\n",
       "    </tr>\n",
       "  </thead>\n",
       "  <tbody>\n",
       "    <tr>\n",
       "      <td>ang</td>\n",
       "      <td>1103</td>\n",
       "      <td>1103</td>\n",
       "      <td>1103</td>\n",
       "      <td>1103</td>\n",
       "      <td>1103</td>\n",
       "      <td>1103</td>\n",
       "    </tr>\n",
       "    <tr>\n",
       "      <td>dis</td>\n",
       "      <td>2</td>\n",
       "      <td>2</td>\n",
       "      <td>2</td>\n",
       "      <td>2</td>\n",
       "      <td>2</td>\n",
       "      <td>2</td>\n",
       "    </tr>\n",
       "    <tr>\n",
       "      <td>exc</td>\n",
       "      <td>1041</td>\n",
       "      <td>1041</td>\n",
       "      <td>1041</td>\n",
       "      <td>1041</td>\n",
       "      <td>1041</td>\n",
       "      <td>1041</td>\n",
       "    </tr>\n",
       "    <tr>\n",
       "      <td>fea</td>\n",
       "      <td>40</td>\n",
       "      <td>40</td>\n",
       "      <td>40</td>\n",
       "      <td>40</td>\n",
       "      <td>40</td>\n",
       "      <td>40</td>\n",
       "    </tr>\n",
       "    <tr>\n",
       "      <td>fru</td>\n",
       "      <td>1849</td>\n",
       "      <td>1849</td>\n",
       "      <td>1849</td>\n",
       "      <td>1849</td>\n",
       "      <td>1849</td>\n",
       "      <td>1849</td>\n",
       "    </tr>\n",
       "    <tr>\n",
       "      <td>hap</td>\n",
       "      <td>595</td>\n",
       "      <td>595</td>\n",
       "      <td>595</td>\n",
       "      <td>595</td>\n",
       "      <td>595</td>\n",
       "      <td>595</td>\n",
       "    </tr>\n",
       "    <tr>\n",
       "      <td>neu</td>\n",
       "      <td>1708</td>\n",
       "      <td>1708</td>\n",
       "      <td>1708</td>\n",
       "      <td>1708</td>\n",
       "      <td>1708</td>\n",
       "      <td>1708</td>\n",
       "    </tr>\n",
       "    <tr>\n",
       "      <td>oth</td>\n",
       "      <td>3</td>\n",
       "      <td>3</td>\n",
       "      <td>3</td>\n",
       "      <td>3</td>\n",
       "      <td>3</td>\n",
       "      <td>3</td>\n",
       "    </tr>\n",
       "    <tr>\n",
       "      <td>sad</td>\n",
       "      <td>1084</td>\n",
       "      <td>1084</td>\n",
       "      <td>1084</td>\n",
       "      <td>1084</td>\n",
       "      <td>1084</td>\n",
       "      <td>1084</td>\n",
       "    </tr>\n",
       "    <tr>\n",
       "      <td>sur</td>\n",
       "      <td>107</td>\n",
       "      <td>107</td>\n",
       "      <td>107</td>\n",
       "      <td>107</td>\n",
       "      <td>107</td>\n",
       "      <td>107</td>\n",
       "    </tr>\n",
       "    <tr>\n",
       "      <td>xxx</td>\n",
       "      <td>2507</td>\n",
       "      <td>2507</td>\n",
       "      <td>2507</td>\n",
       "      <td>2507</td>\n",
       "      <td>2507</td>\n",
       "      <td>2507</td>\n",
       "    </tr>\n",
       "  </tbody>\n",
       "</table>\n",
       "</div>"
      ],
      "text/plain": [
       "         Session_ID  Time_Record  Transcription  Valence  Activation  \\\n",
       "Emotion                                                                \n",
       "ang            1103         1103           1103     1103        1103   \n",
       "dis               2            2              2        2           2   \n",
       "exc            1041         1041           1041     1041        1041   \n",
       "fea              40           40             40       40          40   \n",
       "fru            1849         1849           1849     1849        1849   \n",
       "hap             595          595            595      595         595   \n",
       "neu            1708         1708           1708     1708        1708   \n",
       "oth               3            3              3        3           3   \n",
       "sad            1084         1084           1084     1084        1084   \n",
       "sur             107          107            107      107         107   \n",
       "xxx            2507         2507           2507     2507        2507   \n",
       "\n",
       "         Dominance  \n",
       "Emotion             \n",
       "ang           1103  \n",
       "dis              2  \n",
       "exc           1041  \n",
       "fea             40  \n",
       "fru           1849  \n",
       "hap            595  \n",
       "neu           1708  \n",
       "oth              3  \n",
       "sad           1084  \n",
       "sur            107  \n",
       "xxx           2507  "
      ]
     },
     "execution_count": 360,
     "metadata": {},
     "output_type": "execute_result"
    }
   ],
   "source": [
    "mergedIemocap.groupby(\"Emotion\").count()"
   ]
  },
  {
   "cell_type": "markdown",
   "metadata": {},
   "source": [
    "####  temos que anger = ang, disgust = dis, fear = fea, joy = hap, neutral = neu, sadness = sad, surprise = sur. Vamos juntar essas infromações."
   ]
  },
  {
   "cell_type": "markdown",
   "metadata": {},
   "source": [
    "#### Vamos deixar pradronizado os valores das emoções do meld pelo do iemocap."
   ]
  },
  {
   "cell_type": "code",
   "execution_count": 361,
   "metadata": {},
   "outputs": [],
   "source": [
    "def normalizeEmotion(text):\n",
    "    dici = {\"anger\":\"ang\",\"disgust\":\"dis\",\"fear\":\"fea\",\"joy\":\"hap\",\"neutral\":\"neu\",\"sadness\":\"sad\",\"surprise\":\"sur\"}\n",
    "    return dici[text]"
   ]
  },
  {
   "cell_type": "code",
   "execution_count": 362,
   "metadata": {},
   "outputs": [],
   "source": [
    "meld[\"Emotion\"] = meld[\"Emotion\"].apply(normalizeEmotion)"
   ]
  },
  {
   "cell_type": "code",
   "execution_count": 363,
   "metadata": {},
   "outputs": [],
   "source": [
    "mergedIemocapMeld = pd.DataFrame()"
   ]
  },
  {
   "cell_type": "code",
   "execution_count": 364,
   "metadata": {},
   "outputs": [],
   "source": [
    "mergedIemocapMeld[[\"Transcription\",\"Emotion\"]] = mergedIemocap[[\"Transcription\",\"Emotion\"]]"
   ]
  },
  {
   "cell_type": "code",
   "execution_count": 365,
   "metadata": {},
   "outputs": [
    {
     "data": {
      "text/plain": [
       "(10039, 2)"
      ]
     },
     "execution_count": 365,
     "metadata": {},
     "output_type": "execute_result"
    }
   ],
   "source": [
    "mergedIemocapMeld.shape"
   ]
  },
  {
   "cell_type": "code",
   "execution_count": 366,
   "metadata": {},
   "outputs": [],
   "source": [
    "mergedIemocapMeld = mergedIemocapMeld[[\"Transcription\",\"Emotion\"]].append(meld[[\"Transcription\",\"Emotion\"]], ignore_index=True)"
   ]
  },
  {
   "cell_type": "code",
   "execution_count": 367,
   "metadata": {},
   "outputs": [
    {
     "data": {
      "text/html": [
       "<div>\n",
       "<style scoped>\n",
       "    .dataframe tbody tr th:only-of-type {\n",
       "        vertical-align: middle;\n",
       "    }\n",
       "\n",
       "    .dataframe tbody tr th {\n",
       "        vertical-align: top;\n",
       "    }\n",
       "\n",
       "    .dataframe thead th {\n",
       "        text-align: right;\n",
       "    }\n",
       "</style>\n",
       "<table border=\"1\" class=\"dataframe\">\n",
       "  <thead>\n",
       "    <tr style=\"text-align: right;\">\n",
       "      <th></th>\n",
       "      <th>Transcription</th>\n",
       "      <th>Emotion</th>\n",
       "    </tr>\n",
       "  </thead>\n",
       "  <tbody>\n",
       "    <tr>\n",
       "      <td>0</td>\n",
       "      <td>Excuse me.</td>\n",
       "      <td>neu</td>\n",
       "    </tr>\n",
       "    <tr>\n",
       "      <td>1</td>\n",
       "      <td>Do you have your forms?</td>\n",
       "      <td>fru</td>\n",
       "    </tr>\n",
       "    <tr>\n",
       "      <td>2</td>\n",
       "      <td>Yeah.</td>\n",
       "      <td>neu</td>\n",
       "    </tr>\n",
       "    <tr>\n",
       "      <td>3</td>\n",
       "      <td>Let me see them.</td>\n",
       "      <td>fru</td>\n",
       "    </tr>\n",
       "    <tr>\n",
       "      <td>4</td>\n",
       "      <td>Is there a problem?</td>\n",
       "      <td>neu</td>\n",
       "    </tr>\n",
       "    <tr>\n",
       "      <td>...</td>\n",
       "      <td>...</td>\n",
       "      <td>...</td>\n",
       "    </tr>\n",
       "    <tr>\n",
       "      <td>23742</td>\n",
       "      <td>You or me?</td>\n",
       "      <td>neu</td>\n",
       "    </tr>\n",
       "    <tr>\n",
       "      <td>23743</td>\n",
       "      <td>I got it. Uh, Joey, women don't have Adam's ap...</td>\n",
       "      <td>neu</td>\n",
       "    </tr>\n",
       "    <tr>\n",
       "      <td>23744</td>\n",
       "      <td>You guys are messing with me, right?</td>\n",
       "      <td>sur</td>\n",
       "    </tr>\n",
       "    <tr>\n",
       "      <td>23745</td>\n",
       "      <td>Yeah.</td>\n",
       "      <td>neu</td>\n",
       "    </tr>\n",
       "    <tr>\n",
       "      <td>23746</td>\n",
       "      <td>That was a good one. For a second there, I was...</td>\n",
       "      <td>hap</td>\n",
       "    </tr>\n",
       "  </tbody>\n",
       "</table>\n",
       "<p>23747 rows × 2 columns</p>\n",
       "</div>"
      ],
      "text/plain": [
       "                                           Transcription Emotion\n",
       "0                                             Excuse me.     neu\n",
       "1                                Do you have your forms?     fru\n",
       "2                                                  Yeah.     neu\n",
       "3                                       Let me see them.     fru\n",
       "4                                    Is there a problem?     neu\n",
       "...                                                  ...     ...\n",
       "23742                                         You or me?     neu\n",
       "23743  I got it. Uh, Joey, women don't have Adam's ap...     neu\n",
       "23744               You guys are messing with me, right?     sur\n",
       "23745                                              Yeah.     neu\n",
       "23746  That was a good one. For a second there, I was...     hap\n",
       "\n",
       "[23747 rows x 2 columns]"
      ]
     },
     "execution_count": 367,
     "metadata": {},
     "output_type": "execute_result"
    }
   ],
   "source": [
    "mergedIemocapMeld"
   ]
  },
  {
   "cell_type": "code",
   "execution_count": 368,
   "metadata": {},
   "outputs": [],
   "source": [
    "mergedIemocapMeld.to_csv(\"MeldIemocapDataSet.csv\")"
   ]
  },
  {
   "cell_type": "code",
   "execution_count": 369,
   "metadata": {},
   "outputs": [
    {
     "data": {
      "text/html": [
       "<div>\n",
       "<style scoped>\n",
       "    .dataframe tbody tr th:only-of-type {\n",
       "        vertical-align: middle;\n",
       "    }\n",
       "\n",
       "    .dataframe tbody tr th {\n",
       "        vertical-align: top;\n",
       "    }\n",
       "\n",
       "    .dataframe thead th {\n",
       "        text-align: right;\n",
       "    }\n",
       "</style>\n",
       "<table border=\"1\" class=\"dataframe\">\n",
       "  <thead>\n",
       "    <tr style=\"text-align: right;\">\n",
       "      <th></th>\n",
       "      <th>Transcription</th>\n",
       "    </tr>\n",
       "    <tr>\n",
       "      <th>Emotion</th>\n",
       "      <th></th>\n",
       "    </tr>\n",
       "  </thead>\n",
       "  <tbody>\n",
       "    <tr>\n",
       "      <td>ang</td>\n",
       "      <td>2710</td>\n",
       "    </tr>\n",
       "    <tr>\n",
       "      <td>dis</td>\n",
       "      <td>363</td>\n",
       "    </tr>\n",
       "    <tr>\n",
       "      <td>exc</td>\n",
       "      <td>1041</td>\n",
       "    </tr>\n",
       "    <tr>\n",
       "      <td>fea</td>\n",
       "      <td>398</td>\n",
       "    </tr>\n",
       "    <tr>\n",
       "      <td>fru</td>\n",
       "      <td>1849</td>\n",
       "    </tr>\n",
       "    <tr>\n",
       "      <td>hap</td>\n",
       "      <td>2903</td>\n",
       "    </tr>\n",
       "    <tr>\n",
       "      <td>neu</td>\n",
       "      <td>8144</td>\n",
       "    </tr>\n",
       "    <tr>\n",
       "      <td>oth</td>\n",
       "      <td>3</td>\n",
       "    </tr>\n",
       "    <tr>\n",
       "      <td>sad</td>\n",
       "      <td>2086</td>\n",
       "    </tr>\n",
       "    <tr>\n",
       "      <td>sur</td>\n",
       "      <td>1743</td>\n",
       "    </tr>\n",
       "    <tr>\n",
       "      <td>xxx</td>\n",
       "      <td>2507</td>\n",
       "    </tr>\n",
       "  </tbody>\n",
       "</table>\n",
       "</div>"
      ],
      "text/plain": [
       "         Transcription\n",
       "Emotion               \n",
       "ang               2710\n",
       "dis                363\n",
       "exc               1041\n",
       "fea                398\n",
       "fru               1849\n",
       "hap               2903\n",
       "neu               8144\n",
       "oth                  3\n",
       "sad               2086\n",
       "sur               1743\n",
       "xxx               2507"
      ]
     },
     "execution_count": 369,
     "metadata": {},
     "output_type": "execute_result"
    }
   ],
   "source": [
    "mergedIemocapMeld.groupby(\"Emotion\").count()"
   ]
  },
  {
   "cell_type": "markdown",
   "metadata": {},
   "source": [
    "#### Removeremos as linhas que contém xxx, que é um sentimento não identificado, e oth, que é outro sentimento. São informações irrelevantes para nossos modelos."
   ]
  },
  {
   "cell_type": "code",
   "execution_count": 370,
   "metadata": {},
   "outputs": [],
   "source": [
    "mergedIemocapMeld = mergedIemocapMeld[mergedIemocapMeld[\"Emotion\"] != \"xxx\"]\n",
    "mergedIemocapMeld = mergedIemocapMeld[mergedIemocapMeld[\"Emotion\"] != \"oth\"]"
   ]
  },
  {
   "cell_type": "code",
   "execution_count": 371,
   "metadata": {},
   "outputs": [
    {
     "data": {
      "text/html": [
       "<div>\n",
       "<style scoped>\n",
       "    .dataframe tbody tr th:only-of-type {\n",
       "        vertical-align: middle;\n",
       "    }\n",
       "\n",
       "    .dataframe tbody tr th {\n",
       "        vertical-align: top;\n",
       "    }\n",
       "\n",
       "    .dataframe thead th {\n",
       "        text-align: right;\n",
       "    }\n",
       "</style>\n",
       "<table border=\"1\" class=\"dataframe\">\n",
       "  <thead>\n",
       "    <tr style=\"text-align: right;\">\n",
       "      <th></th>\n",
       "      <th>Transcription</th>\n",
       "    </tr>\n",
       "    <tr>\n",
       "      <th>Emotion</th>\n",
       "      <th></th>\n",
       "    </tr>\n",
       "  </thead>\n",
       "  <tbody>\n",
       "    <tr>\n",
       "      <td>ang</td>\n",
       "      <td>2710</td>\n",
       "    </tr>\n",
       "    <tr>\n",
       "      <td>dis</td>\n",
       "      <td>363</td>\n",
       "    </tr>\n",
       "    <tr>\n",
       "      <td>exc</td>\n",
       "      <td>1041</td>\n",
       "    </tr>\n",
       "    <tr>\n",
       "      <td>fea</td>\n",
       "      <td>398</td>\n",
       "    </tr>\n",
       "    <tr>\n",
       "      <td>fru</td>\n",
       "      <td>1849</td>\n",
       "    </tr>\n",
       "    <tr>\n",
       "      <td>hap</td>\n",
       "      <td>2903</td>\n",
       "    </tr>\n",
       "    <tr>\n",
       "      <td>neu</td>\n",
       "      <td>8144</td>\n",
       "    </tr>\n",
       "    <tr>\n",
       "      <td>sad</td>\n",
       "      <td>2086</td>\n",
       "    </tr>\n",
       "    <tr>\n",
       "      <td>sur</td>\n",
       "      <td>1743</td>\n",
       "    </tr>\n",
       "  </tbody>\n",
       "</table>\n",
       "</div>"
      ],
      "text/plain": [
       "         Transcription\n",
       "Emotion               \n",
       "ang               2710\n",
       "dis                363\n",
       "exc               1041\n",
       "fea                398\n",
       "fru               1849\n",
       "hap               2903\n",
       "neu               8144\n",
       "sad               2086\n",
       "sur               1743"
      ]
     },
     "execution_count": 371,
     "metadata": {},
     "output_type": "execute_result"
    }
   ],
   "source": [
    "mergedIemocapMeld.groupby(\"Emotion\").count()"
   ]
  },
  {
   "cell_type": "markdown",
   "metadata": {},
   "source": [
    "####  Vamos normalizar nossos dados para deixa-los pradronizados."
   ]
  },
  {
   "cell_type": "code",
   "execution_count": 372,
   "metadata": {},
   "outputs": [],
   "source": [
    "def normalize_text(text):\n",
    "    lemmatizer = WordNetLemmatizer()\n",
    "    stop = stopwords.words('english')\n",
    "    text = text.lower()\n",
    "    text = [lemmatizer.lemmatize(pal) for pal in text.split()]\n",
    "    text = [pal for pal in text if (pal not in stop) or (pal in [\"no\",\"not\"])]\n",
    "    return \" \".join(text)"
   ]
  },
  {
   "cell_type": "code",
   "execution_count": 373,
   "metadata": {},
   "outputs": [],
   "source": [
    "mergedIemocapMeld[\"Transcription\"] = mergedIemocapMeld['Transcription'].apply(normalize_text)"
   ]
  },
  {
   "cell_type": "code",
   "execution_count": 374,
   "metadata": {},
   "outputs": [
    {
     "data": {
      "text/html": [
       "<div>\n",
       "<style scoped>\n",
       "    .dataframe tbody tr th:only-of-type {\n",
       "        vertical-align: middle;\n",
       "    }\n",
       "\n",
       "    .dataframe tbody tr th {\n",
       "        vertical-align: top;\n",
       "    }\n",
       "\n",
       "    .dataframe thead th {\n",
       "        text-align: right;\n",
       "    }\n",
       "</style>\n",
       "<table border=\"1\" class=\"dataframe\">\n",
       "  <thead>\n",
       "    <tr style=\"text-align: right;\">\n",
       "      <th></th>\n",
       "      <th>Transcription</th>\n",
       "      <th>Emotion</th>\n",
       "    </tr>\n",
       "  </thead>\n",
       "  <tbody>\n",
       "    <tr>\n",
       "      <td>0</td>\n",
       "      <td>excuse me.</td>\n",
       "      <td>neu</td>\n",
       "    </tr>\n",
       "    <tr>\n",
       "      <td>1</td>\n",
       "      <td>forms?</td>\n",
       "      <td>fru</td>\n",
       "    </tr>\n",
       "    <tr>\n",
       "      <td>2</td>\n",
       "      <td>yeah.</td>\n",
       "      <td>neu</td>\n",
       "    </tr>\n",
       "    <tr>\n",
       "      <td>3</td>\n",
       "      <td>let see them.</td>\n",
       "      <td>fru</td>\n",
       "    </tr>\n",
       "    <tr>\n",
       "      <td>4</td>\n",
       "      <td>problem?</td>\n",
       "      <td>neu</td>\n",
       "    </tr>\n",
       "    <tr>\n",
       "      <td>5</td>\n",
       "      <td>told get line?</td>\n",
       "      <td>fru</td>\n",
       "    </tr>\n",
       "    <tr>\n",
       "      <td>8</td>\n",
       "      <td>okay. tell get line filling particular form.</td>\n",
       "      <td>fru</td>\n",
       "    </tr>\n",
       "    <tr>\n",
       "      <td>9</td>\n",
       "      <td>well what's problem? let change it.</td>\n",
       "      <td>neu</td>\n",
       "    </tr>\n",
       "    <tr>\n",
       "      <td>10</td>\n",
       "      <td>form z.x.four.</td>\n",
       "      <td>fru</td>\n",
       "    </tr>\n",
       "    <tr>\n",
       "      <td>11</td>\n",
       "      <td>can't-- not line z.x.four. going fill z.x.four...</td>\n",
       "      <td>fru</td>\n",
       "    </tr>\n",
       "    <tr>\n",
       "      <td>12</td>\n",
       "      <td>what? i'm getting id. i'm here. wallet wa stolen.</td>\n",
       "      <td>fru</td>\n",
       "    </tr>\n",
       "    <tr>\n",
       "      <td>13</td>\n",
       "      <td>no. need another set id prove actually you.</td>\n",
       "      <td>fru</td>\n",
       "    </tr>\n",
       "    <tr>\n",
       "      <td>14</td>\n",
       "      <td>supposed get id without id? doe person get id ...</td>\n",
       "      <td>fru</td>\n",
       "    </tr>\n",
       "    <tr>\n",
       "      <td>15</td>\n",
       "      <td>know. need id pas form along. can't send along...</td>\n",
       "      <td>fru</td>\n",
       "    </tr>\n",
       "    <tr>\n",
       "      <td>16</td>\n",
       "      <td>i'm get id.</td>\n",
       "      <td>fru</td>\n",
       "    </tr>\n",
       "    <tr>\n",
       "      <td>17</td>\n",
       "      <td>no. need another id, separate one.</td>\n",
       "      <td>fru</td>\n",
       "    </tr>\n",
       "    <tr>\n",
       "      <td>18</td>\n",
       "      <td>like what? like birth certificate?</td>\n",
       "      <td>fru</td>\n",
       "    </tr>\n",
       "    <tr>\n",
       "      <td>19</td>\n",
       "      <td>birth certificate, passport...a student id; go...</td>\n",
       "      <td>fru</td>\n",
       "    </tr>\n",
       "    <tr>\n",
       "      <td>21</td>\n",
       "      <td>yes wallet wa stolen, anything. credit cards, ...</td>\n",
       "      <td>fru</td>\n",
       "    </tr>\n",
       "    <tr>\n",
       "      <td>22</td>\n",
       "      <td>yeah. keep file, need id access file.</td>\n",
       "      <td>fru</td>\n",
       "    </tr>\n",
       "    <tr>\n",
       "      <td>23</td>\n",
       "      <td>that's control.</td>\n",
       "      <td>ang</td>\n",
       "    </tr>\n",
       "    <tr>\n",
       "      <td>24</td>\n",
       "      <td>understand complicated people get here. simple...</td>\n",
       "      <td>ang</td>\n",
       "    </tr>\n",
       "    <tr>\n",
       "      <td>25</td>\n",
       "      <td>long working here?</td>\n",
       "      <td>fru</td>\n",
       "    </tr>\n",
       "    <tr>\n",
       "      <td>27</td>\n",
       "      <td>clearly. know, like supervisor something?</td>\n",
       "      <td>neu</td>\n",
       "    </tr>\n",
       "    <tr>\n",
       "      <td>28</td>\n",
       "      <td>yeah. want see supervisor? huh? yeah. want see...</td>\n",
       "      <td>ang</td>\n",
       "    </tr>\n",
       "    <tr>\n",
       "      <td>29</td>\n",
       "      <td>would - would appreciate that. yeah.</td>\n",
       "      <td>fru</td>\n",
       "    </tr>\n",
       "    <tr>\n",
       "      <td>30</td>\n",
       "      <td>get mail? saw letter?</td>\n",
       "      <td>sad</td>\n",
       "    </tr>\n",
       "    <tr>\n",
       "      <td>32</td>\n",
       "      <td>yeah. know.</td>\n",
       "      <td>sad</td>\n",
       "    </tr>\n",
       "    <tr>\n",
       "      <td>33</td>\n",
       "      <td>understand. already done much, know go back.</td>\n",
       "      <td>sad</td>\n",
       "    </tr>\n",
       "    <tr>\n",
       "      <td>34</td>\n",
       "      <td>know. put that. request too. didn't...</td>\n",
       "      <td>sad</td>\n",
       "    </tr>\n",
       "    <tr>\n",
       "      <td>35</td>\n",
       "      <td>guess, know, everybody ha make sacrifices.</td>\n",
       "      <td>neu</td>\n",
       "    </tr>\n",
       "    <tr>\n",
       "      <td>37</td>\n",
       "      <td>there's people given though, know?</td>\n",
       "      <td>sad</td>\n",
       "    </tr>\n",
       "    <tr>\n",
       "      <td>38</td>\n",
       "      <td>see make leave new baby - new kid.</td>\n",
       "      <td>fru</td>\n",
       "    </tr>\n",
       "    <tr>\n",
       "      <td>39</td>\n",
       "      <td>know.</td>\n",
       "      <td>sad</td>\n",
       "    </tr>\n",
       "    <tr>\n",
       "      <td>41</td>\n",
       "      <td>there's baby there, though, need mothers.</td>\n",
       "      <td>neu</td>\n",
       "    </tr>\n",
       "    <tr>\n",
       "      <td>42</td>\n",
       "      <td>know okay this? know not-- fine it.</td>\n",
       "      <td>sad</td>\n",
       "    </tr>\n",
       "    <tr>\n",
       "      <td>45</td>\n",
       "      <td>just, know, kicking myself.</td>\n",
       "      <td>sad</td>\n",
       "    </tr>\n",
       "    <tr>\n",
       "      <td>47</td>\n",
       "      <td>thing seem.</td>\n",
       "      <td>sad</td>\n",
       "    </tr>\n",
       "    <tr>\n",
       "      <td>50</td>\n",
       "      <td>know.</td>\n",
       "      <td>fru</td>\n",
       "    </tr>\n",
       "    <tr>\n",
       "      <td>51</td>\n",
       "      <td>see ha you.</td>\n",
       "      <td>sad</td>\n",
       "    </tr>\n",
       "    <tr>\n",
       "      <td>52</td>\n",
       "      <td>not then, who?</td>\n",
       "      <td>sad</td>\n",
       "    </tr>\n",
       "    <tr>\n",
       "      <td>53</td>\n",
       "      <td>going do? huh?</td>\n",
       "      <td>sad</td>\n",
       "    </tr>\n",
       "    <tr>\n",
       "      <td>54</td>\n",
       "      <td>videotape everything, yeah?</td>\n",
       "      <td>sad</td>\n",
       "    </tr>\n",
       "    <tr>\n",
       "      <td>55</td>\n",
       "      <td>yeah.</td>\n",
       "      <td>sad</td>\n",
       "    </tr>\n",
       "    <tr>\n",
       "      <td>56</td>\n",
       "      <td>maybe send me, like stream it, yeah?</td>\n",
       "      <td>sad</td>\n",
       "    </tr>\n",
       "    <tr>\n",
       "      <td>57</td>\n",
       "      <td>guy access computer there.</td>\n",
       "      <td>neu</td>\n",
       "    </tr>\n",
       "    <tr>\n",
       "      <td>58</td>\n",
       "      <td>last month-- yeah.</td>\n",
       "      <td>sad</td>\n",
       "    </tr>\n",
       "    <tr>\n",
       "      <td>59</td>\n",
       "      <td>know i'm going without you.</td>\n",
       "      <td>sad</td>\n",
       "    </tr>\n",
       "    <tr>\n",
       "      <td>60</td>\n",
       "      <td>find sitters.</td>\n",
       "      <td>neu</td>\n",
       "    </tr>\n",
       "    <tr>\n",
       "      <td>61</td>\n",
       "      <td>can't raise baby myself. how?</td>\n",
       "      <td>sad</td>\n",
       "    </tr>\n",
       "  </tbody>\n",
       "</table>\n",
       "</div>"
      ],
      "text/plain": [
       "                                        Transcription Emotion\n",
       "0                                          excuse me.     neu\n",
       "1                                              forms?     fru\n",
       "2                                               yeah.     neu\n",
       "3                                       let see them.     fru\n",
       "4                                            problem?     neu\n",
       "5                                      told get line?     fru\n",
       "8        okay. tell get line filling particular form.     fru\n",
       "9                 well what's problem? let change it.     neu\n",
       "10                                     form z.x.four.     fru\n",
       "11  can't-- not line z.x.four. going fill z.x.four...     fru\n",
       "12  what? i'm getting id. i'm here. wallet wa stolen.     fru\n",
       "13        no. need another set id prove actually you.     fru\n",
       "14  supposed get id without id? doe person get id ...     fru\n",
       "15  know. need id pas form along. can't send along...     fru\n",
       "16                                        i'm get id.     fru\n",
       "17                 no. need another id, separate one.     fru\n",
       "18                 like what? like birth certificate?     fru\n",
       "19  birth certificate, passport...a student id; go...     fru\n",
       "21  yes wallet wa stolen, anything. credit cards, ...     fru\n",
       "22              yeah. keep file, need id access file.     fru\n",
       "23                                    that's control.     ang\n",
       "24  understand complicated people get here. simple...     ang\n",
       "25                                 long working here?     fru\n",
       "27          clearly. know, like supervisor something?     neu\n",
       "28  yeah. want see supervisor? huh? yeah. want see...     ang\n",
       "29               would - would appreciate that. yeah.     fru\n",
       "30                              get mail? saw letter?     sad\n",
       "32                                        yeah. know.     sad\n",
       "33       understand. already done much, know go back.     sad\n",
       "34             know. put that. request too. didn't...     sad\n",
       "35         guess, know, everybody ha make sacrifices.     neu\n",
       "37                 there's people given though, know?     sad\n",
       "38                 see make leave new baby - new kid.     fru\n",
       "39                                              know.     sad\n",
       "41          there's baby there, though, need mothers.     neu\n",
       "42                know okay this? know not-- fine it.     sad\n",
       "45                        just, know, kicking myself.     sad\n",
       "47                                        thing seem.     sad\n",
       "50                                              know.     fru\n",
       "51                                        see ha you.     sad\n",
       "52                                     not then, who?     sad\n",
       "53                                     going do? huh?     sad\n",
       "54                        videotape everything, yeah?     sad\n",
       "55                                              yeah.     sad\n",
       "56               maybe send me, like stream it, yeah?     sad\n",
       "57                         guy access computer there.     neu\n",
       "58                                 last month-- yeah.     sad\n",
       "59                        know i'm going without you.     sad\n",
       "60                                      find sitters.     neu\n",
       "61                      can't raise baby myself. how?     sad"
      ]
     },
     "execution_count": 374,
     "metadata": {},
     "output_type": "execute_result"
    }
   ],
   "source": [
    "mergedIemocapMeld.head(50)"
   ]
  },
  {
   "cell_type": "markdown",
   "metadata": {},
   "source": [
    "#### Vamos discretizar as emoções para ficar mais fácil para tratarmos"
   ]
  },
  {
   "cell_type": "code",
   "execution_count": 375,
   "metadata": {},
   "outputs": [
    {
     "data": {
      "text/html": [
       "<div>\n",
       "<style scoped>\n",
       "    .dataframe tbody tr th:only-of-type {\n",
       "        vertical-align: middle;\n",
       "    }\n",
       "\n",
       "    .dataframe tbody tr th {\n",
       "        vertical-align: top;\n",
       "    }\n",
       "\n",
       "    .dataframe thead th {\n",
       "        text-align: right;\n",
       "    }\n",
       "</style>\n",
       "<table border=\"1\" class=\"dataframe\">\n",
       "  <thead>\n",
       "    <tr style=\"text-align: right;\">\n",
       "      <th></th>\n",
       "      <th>Transcription</th>\n",
       "    </tr>\n",
       "    <tr>\n",
       "      <th>Emotion</th>\n",
       "      <th></th>\n",
       "    </tr>\n",
       "  </thead>\n",
       "  <tbody>\n",
       "    <tr>\n",
       "      <td>ang</td>\n",
       "      <td>2710</td>\n",
       "    </tr>\n",
       "    <tr>\n",
       "      <td>dis</td>\n",
       "      <td>363</td>\n",
       "    </tr>\n",
       "    <tr>\n",
       "      <td>exc</td>\n",
       "      <td>1041</td>\n",
       "    </tr>\n",
       "    <tr>\n",
       "      <td>fea</td>\n",
       "      <td>398</td>\n",
       "    </tr>\n",
       "    <tr>\n",
       "      <td>fru</td>\n",
       "      <td>1849</td>\n",
       "    </tr>\n",
       "    <tr>\n",
       "      <td>hap</td>\n",
       "      <td>2903</td>\n",
       "    </tr>\n",
       "    <tr>\n",
       "      <td>neu</td>\n",
       "      <td>8144</td>\n",
       "    </tr>\n",
       "    <tr>\n",
       "      <td>sad</td>\n",
       "      <td>2086</td>\n",
       "    </tr>\n",
       "    <tr>\n",
       "      <td>sur</td>\n",
       "      <td>1743</td>\n",
       "    </tr>\n",
       "  </tbody>\n",
       "</table>\n",
       "</div>"
      ],
      "text/plain": [
       "         Transcription\n",
       "Emotion               \n",
       "ang               2710\n",
       "dis                363\n",
       "exc               1041\n",
       "fea                398\n",
       "fru               1849\n",
       "hap               2903\n",
       "neu               8144\n",
       "sad               2086\n",
       "sur               1743"
      ]
     },
     "execution_count": 375,
     "metadata": {},
     "output_type": "execute_result"
    }
   ],
   "source": [
    "mergedIemocapMeld.groupby(\"Emotion\").count()"
   ]
  },
  {
   "cell_type": "code",
   "execution_count": 376,
   "metadata": {},
   "outputs": [],
   "source": [
    "def discrete(text):\n",
    "    dici = {\"ang\":1,\"dis\":2,\"exc\":3,\"fea\":4,\"fru\":5,\"hap\":6,\"neu\":7,\"sad\":8,\"sur\":9}\n",
    "    return dici[text]"
   ]
  },
  {
   "cell_type": "code",
   "execution_count": 377,
   "metadata": {},
   "outputs": [
    {
     "data": {
      "text/html": [
       "<div>\n",
       "<style scoped>\n",
       "    .dataframe tbody tr th:only-of-type {\n",
       "        vertical-align: middle;\n",
       "    }\n",
       "\n",
       "    .dataframe tbody tr th {\n",
       "        vertical-align: top;\n",
       "    }\n",
       "\n",
       "    .dataframe thead th {\n",
       "        text-align: right;\n",
       "    }\n",
       "</style>\n",
       "<table border=\"1\" class=\"dataframe\">\n",
       "  <thead>\n",
       "    <tr style=\"text-align: right;\">\n",
       "      <th></th>\n",
       "      <th>Transcription</th>\n",
       "      <th>Emotion</th>\n",
       "      <th>DisEmotion</th>\n",
       "    </tr>\n",
       "  </thead>\n",
       "  <tbody>\n",
       "    <tr>\n",
       "      <td>0</td>\n",
       "      <td>excuse me.</td>\n",
       "      <td>neu</td>\n",
       "      <td>7</td>\n",
       "    </tr>\n",
       "    <tr>\n",
       "      <td>1</td>\n",
       "      <td>forms?</td>\n",
       "      <td>fru</td>\n",
       "      <td>5</td>\n",
       "    </tr>\n",
       "    <tr>\n",
       "      <td>2</td>\n",
       "      <td>yeah.</td>\n",
       "      <td>neu</td>\n",
       "      <td>7</td>\n",
       "    </tr>\n",
       "    <tr>\n",
       "      <td>3</td>\n",
       "      <td>let see them.</td>\n",
       "      <td>fru</td>\n",
       "      <td>5</td>\n",
       "    </tr>\n",
       "    <tr>\n",
       "      <td>4</td>\n",
       "      <td>problem?</td>\n",
       "      <td>neu</td>\n",
       "      <td>7</td>\n",
       "    </tr>\n",
       "    <tr>\n",
       "      <td>...</td>\n",
       "      <td>...</td>\n",
       "      <td>...</td>\n",
       "      <td>...</td>\n",
       "    </tr>\n",
       "    <tr>\n",
       "      <td>23742</td>\n",
       "      <td>me?</td>\n",
       "      <td>neu</td>\n",
       "      <td>7</td>\n",
       "    </tr>\n",
       "    <tr>\n",
       "      <td>23743</td>\n",
       "      <td>got it. uh, joey, woman adam's apples.</td>\n",
       "      <td>neu</td>\n",
       "      <td>7</td>\n",
       "    </tr>\n",
       "    <tr>\n",
       "      <td>23744</td>\n",
       "      <td>guy messing me, right?</td>\n",
       "      <td>sur</td>\n",
       "      <td>9</td>\n",
       "    </tr>\n",
       "    <tr>\n",
       "      <td>23745</td>\n",
       "      <td>yeah.</td>\n",
       "      <td>neu</td>\n",
       "      <td>7</td>\n",
       "    </tr>\n",
       "    <tr>\n",
       "      <td>23746</td>\n",
       "      <td>wa good one. second there, wa like, \"whoa.\"</td>\n",
       "      <td>hap</td>\n",
       "      <td>6</td>\n",
       "    </tr>\n",
       "  </tbody>\n",
       "</table>\n",
       "<p>21237 rows × 3 columns</p>\n",
       "</div>"
      ],
      "text/plain": [
       "                                     Transcription Emotion  DisEmotion\n",
       "0                                       excuse me.     neu           7\n",
       "1                                           forms?     fru           5\n",
       "2                                            yeah.     neu           7\n",
       "3                                    let see them.     fru           5\n",
       "4                                         problem?     neu           7\n",
       "...                                            ...     ...         ...\n",
       "23742                                          me?     neu           7\n",
       "23743       got it. uh, joey, woman adam's apples.     neu           7\n",
       "23744                       guy messing me, right?     sur           9\n",
       "23745                                        yeah.     neu           7\n",
       "23746  wa good one. second there, wa like, \"whoa.\"     hap           6\n",
       "\n",
       "[21237 rows x 3 columns]"
      ]
     },
     "execution_count": 377,
     "metadata": {},
     "output_type": "execute_result"
    }
   ],
   "source": [
    "mergedIemocapMeld[\"DisEmotion\"] = mergedIemocapMeld[\"Emotion\"].apply(discrete)\n",
    "\n",
    "mergedIemocapMeld"
   ]
  },
  {
   "cell_type": "markdown",
   "metadata": {},
   "source": [
    "#### Vamos ver como os dados se comportam com o plot de um gráfico com redução de dimensinalidade."
   ]
  },
  {
   "cell_type": "code",
   "execution_count": 378,
   "metadata": {},
   "outputs": [],
   "source": [
    "def plot_LSA(test_data, test_labels, savepath=\"PCA_demo.csv\", plot=True):\n",
    "        fig = plt.figure(figsize=(16, 16)) \n",
    "        lsa = TruncatedSVD(n_components=2)\n",
    "        lsa.fit(test_data)\n",
    "        lsa_scores = lsa.transform(test_data)\n",
    "        color_mapper = {label:idx for idx,label in enumerate(set(test_labels))}\n",
    "        color_column = [color_mapper[label] for label in test_labels]\n",
    "        colors = ['orange','blue',\"yellow\",\"beige\",\"black\",\"brown\",\"gray\",\"red\",\"purple\"]\n",
    "        if plot:\n",
    "            # dici = {\"ang\":1,\"dis\":2,\"exc\":3,\"fea\":4,\"fru\":5,\"hap\":6,\"neu\":7,\"sad\":8,\"sur\":9}\n",
    "            plt.scatter(lsa_scores[:,0], lsa_scores[:,1], s=8, alpha=.8, c=test_labels, cmap=matplotlib.colors.ListedColormap(colors))\n",
    "            oran_patch = mpatches.Patch(color = 'orange',label = 'neutral')\n",
    "            blue_patch = mpatches.Patch(color = 'blue',label = 'frustrated')\n",
    "            yellow_patch = mpatches.Patch(color='yellow',label=\"angry\")\n",
    "            beige_patch = mpatches.Patch(color = \"beige\",label = \"sad\")\n",
    "            black_patch = mpatches.Patch(color = \"black\", label = \"happy\")\n",
    "            brown_patch = mpatches.Patch(color = \"brown\", label = \"suprised\")\n",
    "            gray_patch = mpatches.Patch(color = \"gray\", label = \"excited\")\n",
    "            red_patch = mpatches.Patch(color = \"red\", label = \"fearful\")\n",
    "            purple_patch = mpatches.Patch(color = \"purple\", label = \"disgust\")\n",
    "            plt.legend(handles=[oran_patch, blue_patch,yellow_patch,beige_patch,black_patch,brown_patch,gray_patch,red_patch,purple_patch], prop={'size': 20})"
   ]
  },
  {
   "cell_type": "code",
   "execution_count": 379,
   "metadata": {},
   "outputs": [
    {
     "data": {
      "image/png": "[encoded data removed]",
      "text/plain": [
       "<Figure size 1152x1152 with 1 Axes>"
      ]
     },
     "metadata": {
      "needs_background": "light"
     },
     "output_type": "display_data"
    }
   ],
   "source": [
    "count = CountVectorizer()\n",
    "xtrain_matrix = count.fit_transform(mergedIemocapMeld.Transcription)\n",
    "ytrain_matrix = mergedIemocapMeld.DisEmotion\n",
    "\n",
    "plot_LSA(xtrain_matrix,ytrain_matrix)"
   ]
  },
  {
   "cell_type": "markdown",
   "metadata": {},
   "source": [
    "#### Os dados ainda estão muito juntos, vamos ver como ele se comporta com o tifidf vectorizer"
   ]
  },
  {
   "cell_type": "code",
   "execution_count": 380,
   "metadata": {},
   "outputs": [
    {
     "data": {
      "image/png": "[encoded data removed]",
      "text/plain": [
       "<Figure size 1152x1152 with 1 Axes>"
      ]
     },
     "metadata": {
      "needs_background": "light"
     },
     "output_type": "display_data"
    }
   ],
   "source": [
    "count = TfidfVectorizer()\n",
    "xtrain_matrix = count.fit_transform(mergedIemocapMeld.Transcription)\n",
    "ytrain_matrix = mergedIemocapMeld.DisEmotion\n",
    "\n",
    "plot_LSA(xtrain_matrix,ytrain_matrix)"
   ]
  },
  {
   "cell_type": "markdown",
   "metadata": {},
   "source": [
    "#### Ainda muito juntos, esse é um indicio que a classificação pode ter problemas, ou é a redução de dimensionalide que não está sendo bem executada."
   ]
  },
  {
   "cell_type": "markdown",
   "metadata": {},
   "source": [
    "#### Agora vamos ver como alguns classificadores se saem."
   ]
  },
  {
   "cell_type": "markdown",
   "metadata": {},
   "source": [
    "#### primeiro vamos testar uma suport vector machine com kernel linear, note que estamos usando o grid search cv para encontrar a melhor hiper parametrização. Vamos usar por enquanto count vectorizer."
   ]
  },
  {
   "cell_type": "code",
   "execution_count": 381,
   "metadata": {},
   "outputs": [],
   "source": [
    "xtrain, xtest, ytrain_right, ytest_right = train_test_split(mergedIemocapMeld.Transcription,mergedIemocapMeld.DisEmotion,random_state=7)"
   ]
  },
  {
   "cell_type": "code",
   "execution_count": 382,
   "metadata": {},
   "outputs": [],
   "source": [
    "count = CountVectorizer(ngram_range=(1,2))\n",
    "xtrain_matrix = count.fit_transform(xtrain)\n",
    "xtest_matrix = count.transform(xtest)"
   ]
  },
  {
   "cell_type": "code",
   "execution_count": 383,
   "metadata": {},
   "outputs": [
    {
     "name": "stderr",
     "output_type": "stream",
     "text": [
      "/home/matheus/anaconda3/lib/python3.7/site-packages/sklearn/model_selection/_split.py:1978: FutureWarning: The default value of cv will change from 3 to 5 in version 0.22. Specify it explicitly to silence this warning.\n",
      "  warnings.warn(CV_WARNING, FutureWarning)\n",
      "/home/matheus/anaconda3/lib/python3.7/site-packages/sklearn/svm/base.py:929: ConvergenceWarning: Liblinear failed to converge, increase the number of iterations.\n",
      "  \"the number of iterations.\", ConvergenceWarning)\n"
     ]
    },
    {
     "data": {
      "text/plain": [
       "LinearSVC(C=1.0, class_weight=None, dual=True, fit_intercept=True,\n",
       "          intercept_scaling=1, loss='hinge', max_iter=1000, multi_class='ovr',\n",
       "          penalty='l2', random_state=None, tol=0.0001, verbose=0)"
      ]
     },
     "execution_count": 383,
     "metadata": {},
     "output_type": "execute_result"
    }
   ],
   "source": [
    "dici = {\"penalty\":[\"l2\"],\"loss\":[\"hinge\",\"squared_hinge\"]}\n",
    "\n",
    "grid = GridSearchCV(LinearSVC(),param_grid=dici)\n",
    "\n",
    "grid.fit(xtrain_matrix,ytrain_right)\n",
    "\n",
    "grid.best_estimator_"
   ]
  },
  {
   "cell_type": "code",
   "execution_count": 384,
   "metadata": {},
   "outputs": [
    {
     "data": {
      "text/plain": [
       "0.45658316067055943"
      ]
     },
     "execution_count": 384,
     "metadata": {},
     "output_type": "execute_result"
    }
   ],
   "source": [
    "grid.best_score_"
   ]
  },
  {
   "cell_type": "markdown",
   "metadata": {},
   "source": [
    "#### Uma acuracia bastante baixa, vamos ver a matriz de confusão e outras métricas"
   ]
  },
  {
   "cell_type": "code",
   "execution_count": 385,
   "metadata": {},
   "outputs": [],
   "source": [
    "model = LinearSVC(C=1.0, class_weight=None, dual=True, fit_intercept=True,\n",
    "          intercept_scaling=1, loss='hinge', max_iter=1000, multi_class='ovr',\n",
    "          penalty='l2', random_state=None, tol=0.0001, verbose=0)"
   ]
  },
  {
   "cell_type": "code",
   "execution_count": 386,
   "metadata": {},
   "outputs": [],
   "source": [
    "model.fit(xtrain_matrix, ytrain_right)\n",
    "\n",
    "output = model.predict(ytest_matrix)"
   ]
  },
  {
   "cell_type": "markdown",
   "metadata": {},
   "source": [
    "#### Vamos plotar a matriz de confusão para ver como se sai"
   ]
  },
  {
   "cell_type": "code",
   "execution_count": 387,
   "metadata": {},
   "outputs": [
    {
     "data": {
      "image/png": "[encoded data removed]",
      "text/plain": [
       "<Figure size 1008x1008 with 2 Axes>"
      ]
     },
     "metadata": {
      "needs_background": "light"
     },
     "output_type": "display_data"
    }
   ],
   "source": [
    "plt.figure(figsize=(14, 14)) \n",
    "cm = confusion_matrix(ytest_right,output)\n",
    "\n",
    "cm = pd.DataFrame(cm,index = [\"ang\",\"dis\",\"exc\",\"fea\",\"fru\",\"hap\",\"neu\",\"sad\",\"sur\"],columns = [\"ang\",\"dis\",\"exc\",\"fea\",\"fru\",\"hap\",\"neu\",\"sad\",\"sur\"])\n",
    "\n",
    "ax = sn.heatmap(cm,annot=True,fmt=\"d\")\n",
    "\n",
    "bottom, top = ax.get_ylim()\n",
    "\n",
    "ax.set_ylim(bottom + 0.5, top - 0.5)\n",
    "\n",
    "plt.xlabel(\"predicted\")\n",
    "plt.ylabel(\"real\")\n",
    "\n",
    "plt.show()"
   ]
  },
  {
   "cell_type": "code",
   "execution_count": 388,
   "metadata": {},
   "outputs": [
    {
     "name": "stdout",
     "output_type": "stream",
     "text": [
      "              precision    recall  f1-score   support\n",
      "\n",
      "         ang       0.39      0.29      0.33       673\n",
      "         dis       0.25      0.11      0.15        93\n",
      "         exc       0.46      0.33      0.38       247\n",
      "         fea       0.19      0.08      0.11        99\n",
      "         fru       0.46      0.39      0.42       446\n",
      "         hap       0.39      0.26      0.31       762\n",
      "         neu       0.51      0.70      0.59      2030\n",
      "         sad       0.42      0.36      0.39       520\n",
      "         sur       0.39      0.40      0.39       440\n",
      "\n",
      "    accuracy                           0.46      5310\n",
      "   macro avg       0.39      0.32      0.34      5310\n",
      "weighted avg       0.44      0.46      0.44      5310\n",
      "\n"
     ]
    }
   ],
   "source": [
    "print(classification_report(ytest_right,output,target_names=[\"ang\",\"dis\",\"exc\",\"fea\",\"fru\",\"hap\",\"neu\",\"sad\",\"sur\"]))"
   ]
  },
  {
   "cell_type": "markdown",
   "metadata": {},
   "source": [
    "#### Podemos ver que as predições estão bastante dispersas, vamos testar com outros modelos."
   ]
  },
  {
   "cell_type": "code",
   "execution_count": 389,
   "metadata": {
    "scrolled": false
   },
   "outputs": [
    {
     "name": "stderr",
     "output_type": "stream",
     "text": [
      "/home/matheus/anaconda3/lib/python3.7/site-packages/sklearn/model_selection/_split.py:1978: FutureWarning: The default value of cv will change from 3 to 5 in version 0.22. Specify it explicitly to silence this warning.\n",
      "  warnings.warn(CV_WARNING, FutureWarning)\n",
      "/home/matheus/anaconda3/lib/python3.7/site-packages/sklearn/linear_model/sag.py:337: ConvergenceWarning: The max_iter was reached which means the coef_ did not converge\n",
      "  \"the coef_ did not converge\", ConvergenceWarning)\n",
      "/home/matheus/anaconda3/lib/python3.7/site-packages/sklearn/linear_model/logistic.py:947: ConvergenceWarning: lbfgs failed to converge. Increase the number of iterations.\n",
      "  \"of iterations.\", ConvergenceWarning)\n",
      "/home/matheus/anaconda3/lib/python3.7/site-packages/sklearn/linear_model/logistic.py:947: ConvergenceWarning: lbfgs failed to converge. Increase the number of iterations.\n",
      "  \"of iterations.\", ConvergenceWarning)\n",
      "/home/matheus/anaconda3/lib/python3.7/site-packages/sklearn/linear_model/logistic.py:947: ConvergenceWarning: lbfgs failed to converge. Increase the number of iterations.\n",
      "  \"of iterations.\", ConvergenceWarning)\n",
      "/home/matheus/anaconda3/lib/python3.7/site-packages/sklearn/linear_model/sag.py:337: ConvergenceWarning: The max_iter was reached which means the coef_ did not converge\n",
      "  \"the coef_ did not converge\", ConvergenceWarning)\n"
     ]
    },
    {
     "data": {
      "text/plain": [
       "LogisticRegression(C=1.0, class_weight=None, dual=False, fit_intercept=True,\n",
       "                   intercept_scaling=1, l1_ratio=None, max_iter=100,\n",
       "                   multi_class='multinomial', n_jobs=None, penalty='l2',\n",
       "                   random_state=None, solver='sag', tol=0.0001, verbose=0,\n",
       "                   warm_start=False)"
      ]
     },
     "execution_count": 389,
     "metadata": {},
     "output_type": "execute_result"
    }
   ],
   "source": [
    "dici2 = {\"solver\":[\"newton-cg\", \"sag\", \"lbfgs\"],\"multi_class\":[\"multinomial\"]}\n",
    "\n",
    "grid2 = GridSearchCV(LogisticRegression(),param_grid=dici2)\n",
    "\n",
    "grid2.fit(xtrain_matrix,ytrain_right)\n",
    "\n",
    "grid2.best_estimator_"
   ]
  },
  {
   "cell_type": "code",
   "execution_count": 390,
   "metadata": {},
   "outputs": [
    {
     "data": {
      "text/plain": [
       "0.48508821498085014"
      ]
     },
     "execution_count": 390,
     "metadata": {},
     "output_type": "execute_result"
    }
   ],
   "source": [
    "grid2.best_score_"
   ]
  },
  {
   "cell_type": "markdown",
   "metadata": {},
   "source": [
    "#### Uma precisão maior que a SVM. Vamos ver as métricas para o modelo."
   ]
  },
  {
   "cell_type": "code",
   "execution_count": 391,
   "metadata": {},
   "outputs": [],
   "source": [
    "model2 = LogisticRegression(C=1.0, class_weight=None, dual=False, fit_intercept=True,\n",
    "                   intercept_scaling=1, l1_ratio=None, max_iter=100,\n",
    "                   multi_class='multinomial', n_jobs=None, penalty='l2',\n",
    "                   random_state=None, solver='sag', tol=0.0001, verbose=0,\n",
    "                   warm_start=False)\n",
    "\n",
    "model2.fit(xtrain_matrix, ytrain_right)\n",
    "\n",
    "output2 = model2.predict(xtest_matrix)"
   ]
  },
  {
   "cell_type": "code",
   "execution_count": 392,
   "metadata": {},
   "outputs": [
    {
     "data": {
      "image/png": "[encoded data removed]",
      "text/plain": [
       "<Figure size 1008x1008 with 2 Axes>"
      ]
     },
     "metadata": {
      "needs_background": "light"
     },
     "output_type": "display_data"
    }
   ],
   "source": [
    "plt.figure(figsize=(14, 14)) \n",
    "cm = confusion_matrix(ytest_right,output2)\n",
    "\n",
    "cm = pd.DataFrame(cm,index = [\"ang\",\"dis\",\"exc\",\"fea\",\"fru\",\"hap\",\"neu\",\"sad\",\"sur\"],columns = [\"ang\",\"dis\",\"exc\",\"fea\",\"fru\",\"hap\",\"neu\",\"sad\",\"sur\"])\n",
    "\n",
    "ax = sn.heatmap(cm,annot=True,fmt=\"d\")\n",
    "\n",
    "bottom, top = ax.get_ylim()\n",
    "\n",
    "ax.set_ylim(bottom + 0.5, top - 0.5)\n",
    "\n",
    "plt.xlabel(\"predicted\")\n",
    "plt.ylabel(\"real\")\n",
    "\n",
    "plt.show()"
   ]
  },
  {
   "cell_type": "code",
   "execution_count": 393,
   "metadata": {},
   "outputs": [
    {
     "name": "stdout",
     "output_type": "stream",
     "text": [
      "              precision    recall  f1-score   support\n",
      "\n",
      "         ang       0.40      0.26      0.32       673\n",
      "         dis       0.29      0.02      0.04        93\n",
      "         exc       0.56      0.31      0.40       247\n",
      "         fea       0.22      0.04      0.07        99\n",
      "         fru       0.50      0.38      0.43       446\n",
      "         hap       0.46      0.27      0.34       762\n",
      "         neu       0.51      0.82      0.63      2030\n",
      "         sad       0.52      0.34      0.41       520\n",
      "         sur       0.45      0.34      0.39       440\n",
      "\n",
      "    accuracy                           0.49      5310\n",
      "   macro avg       0.44      0.31      0.34      5310\n",
      "weighted avg       0.48      0.49      0.46      5310\n",
      "\n"
     ]
    }
   ],
   "source": [
    "print(classification_report(ytest_right,output2,target_names=[\"ang\",\"dis\",\"exc\",\"fea\",\"fru\",\"hap\",\"neu\",\"sad\",\"sur\"]))"
   ]
  },
  {
   "cell_type": "markdown",
   "metadata": {},
   "source": [
    "#### Resultados bastante parecidos."
   ]
  },
  {
   "cell_type": "markdown",
   "metadata": {},
   "source": [
    "#### Outro classificador agora, dessa vez vamos testar o ridge classifier."
   ]
  },
  {
   "cell_type": "code",
   "execution_count": 394,
   "metadata": {
    "scrolled": false
   },
   "outputs": [
    {
     "name": "stderr",
     "output_type": "stream",
     "text": [
      "/home/matheus/anaconda3/lib/python3.7/site-packages/sklearn/model_selection/_split.py:1978: FutureWarning: The default value of cv will change from 3 to 5 in version 0.22. Specify it explicitly to silence this warning.\n",
      "  warnings.warn(CV_WARNING, FutureWarning)\n"
     ]
    },
    {
     "data": {
      "text/plain": [
       "RidgeClassifier(alpha=1.0, class_weight=None, copy_X=True, fit_intercept=False,\n",
       "                max_iter=None, normalize=False, random_state=None,\n",
       "                solver='saga', tol=0.001)"
      ]
     },
     "execution_count": 394,
     "metadata": {},
     "output_type": "execute_result"
    }
   ],
   "source": [
    "dici3 = {\"solver\":[\"cholesky\", \"lsqr\", \"sparse_cg\", \"sag\", \"saga\"],\"fit_intercept\":[False]}\n",
    "\n",
    "grid3 = GridSearchCV(RidgeClassifier(),param_grid=dici3)\n",
    "\n",
    "grid3.fit(xtrain_matrix,ytrain_right)\n",
    "\n",
    "grid3.best_estimator_"
   ]
  },
  {
   "cell_type": "code",
   "execution_count": 395,
   "metadata": {},
   "outputs": [
    {
     "data": {
      "text/plain": [
       "0.44465373265523955"
      ]
     },
     "execution_count": 395,
     "metadata": {},
     "output_type": "execute_result"
    }
   ],
   "source": [
    "grid3.best_score_"
   ]
  },
  {
   "cell_type": "markdown",
   "metadata": {},
   "source": [
    "#### Um resultado pior que os outros dois. Vamos ver as métricas."
   ]
  },
  {
   "cell_type": "code",
   "execution_count": 396,
   "metadata": {},
   "outputs": [
    {
     "data": {
      "text/plain": [
       "RidgeClassifier(alpha=1.0, class_weight=None, copy_X=True, fit_intercept=False,\n",
       "                max_iter=None, normalize=False, random_state=None,\n",
       "                solver='saga', tol=0.001)"
      ]
     },
     "execution_count": 396,
     "metadata": {},
     "output_type": "execute_result"
    }
   ],
   "source": [
    "model3 = RidgeClassifier(alpha=1.0, class_weight=None, copy_X=True, fit_intercept=False,\n",
    "                max_iter=None, normalize=False, random_state=None,\n",
    "                solver='saga', tol=0.001)\n",
    "model3.fit(xtrain_matrix,ytrain_right)"
   ]
  },
  {
   "cell_type": "code",
   "execution_count": 397,
   "metadata": {},
   "outputs": [],
   "source": [
    "output3 = model3.predict(xtest_matrix)"
   ]
  },
  {
   "cell_type": "code",
   "execution_count": 398,
   "metadata": {},
   "outputs": [
    {
     "data": {
      "image/png": "[encoded data removed]",
      "text/plain": [
       "<Figure size 1008x1008 with 2 Axes>"
      ]
     },
     "metadata": {
      "needs_background": "light"
     },
     "output_type": "display_data"
    }
   ],
   "source": [
    "plt.figure(figsize=(14, 14)) \n",
    "cm = confusion_matrix(ytest_right,output3)\n",
    "\n",
    "cm = pd.DataFrame(cm,index = [\"ang\",\"dis\",\"exc\",\"fea\",\"fru\",\"hap\",\"neu\",\"sad\",\"sur\"],columns = [\"ang\",\"dis\",\"exc\",\"fea\",\"fru\",\"hap\",\"neu\",\"sad\",\"sur\"])\n",
    "\n",
    "ax = sn.heatmap(cm,annot=True,fmt=\"d\")\n",
    "\n",
    "bottom, top = ax.get_ylim()\n",
    "\n",
    "ax.set_ylim(bottom + 0.5, top - 0.5)\n",
    "\n",
    "plt.xlabel(\"predicted\")\n",
    "plt.ylabel(\"real\")\n",
    "\n",
    "plt.show()"
   ]
  },
  {
   "cell_type": "code",
   "execution_count": 399,
   "metadata": {},
   "outputs": [
    {
     "name": "stdout",
     "output_type": "stream",
     "text": [
      "              precision    recall  f1-score   support\n",
      "\n",
      "         ang       0.36      0.33      0.34       673\n",
      "         dis       0.23      0.10      0.14        93\n",
      "         exc       0.45      0.32      0.37       247\n",
      "         fea       0.22      0.10      0.14        99\n",
      "         fru       0.44      0.41      0.42       446\n",
      "         hap       0.39      0.28      0.33       762\n",
      "         neu       0.52      0.66      0.58      2030\n",
      "         sad       0.42      0.35      0.38       520\n",
      "         sur       0.40      0.42      0.41       440\n",
      "\n",
      "    accuracy                           0.45      5310\n",
      "   macro avg       0.38      0.33      0.35      5310\n",
      "weighted avg       0.44      0.45      0.44      5310\n",
      "\n"
     ]
    }
   ],
   "source": [
    "print(classification_report(ytest_right,output3,target_names=[\"ang\",\"dis\",\"exc\",\"fea\",\"fru\",\"hap\",\"neu\",\"sad\",\"sur\"]))"
   ]
  },
  {
   "cell_type": "markdown",
   "metadata": {},
   "source": [
    "###  Agora vamos tentar combinar os resultados dos 3 e usar um votting classifier para tentar predizer o resultado."
   ]
  },
  {
   "cell_type": "code",
   "execution_count": 400,
   "metadata": {},
   "outputs": [],
   "source": [
    "model4 = VotingClassifier([(\"LR\",model),(\"SVM\",model2),(\"RDG\",model3)],voting=\"hard\")"
   ]
  },
  {
   "cell_type": "code",
   "execution_count": null,
   "metadata": {},
   "outputs": [
    {
     "name": "stderr",
     "output_type": "stream",
     "text": [
      "/home/matheus/anaconda3/lib/python3.7/site-packages/sklearn/svm/base.py:929: ConvergenceWarning: Liblinear failed to converge, increase the number of iterations.\n",
      "  \"the number of iterations.\", ConvergenceWarning)\n",
      "/home/matheus/anaconda3/lib/python3.7/site-packages/sklearn/linear_model/sag.py:337: ConvergenceWarning: The max_iter was reached which means the coef_ did not converge\n",
      "  \"the coef_ did not converge\", ConvergenceWarning)\n"
     ]
    }
   ],
   "source": [
    "model4.fit(xtrain_matrix,ytrain_right)"
   ]
  },
  {
   "cell_type": "code",
   "execution_count": null,
   "metadata": {},
   "outputs": [],
   "source": [
    "output4 = model4.predict(xtest_matrix)"
   ]
  },
  {
   "cell_type": "code",
   "execution_count": null,
   "metadata": {},
   "outputs": [],
   "source": [
    "print(classification_report(ytest_right,output4,target_names=[\"ang\",\"dis\",\"exc\",\"fea\",\"fru\",\"hap\",\"neu\",\"sad\",\"sur\"]))"
   ]
  },
  {
   "cell_type": "code",
   "execution_count": null,
   "metadata": {},
   "outputs": [],
   "source": [
    "plt.figure(figsize=(14, 14)) \n",
    "cm = confusion_matrix(ytest_right,output4)\n",
    "\n",
    "cm = pd.DataFrame(cm,index = [\"ang\",\"dis\",\"exc\",\"fea\",\"fru\",\"hap\",\"neu\",\"sad\",\"sur\"],columns = [\"ang\",\"dis\",\"exc\",\"fea\",\"fru\",\"hap\",\"neu\",\"sad\",\"sur\"])\n",
    "\n",
    "ax = sn.heatmap(cm,annot=True,fmt=\"d\")\n",
    "\n",
    "bottom, top = ax.get_ylim()\n",
    "\n",
    "ax.set_ylim(bottom + 0.5, top - 0.5)\n",
    "\n",
    "plt.xlabel(\"predicted\")\n",
    "plt.ylabel(\"real\")\n",
    "\n",
    "plt.show()"
   ]
  },
  {
   "cell_type": "markdown",
   "metadata": {},
   "source": [
    "### Ainda em torno dos 40%, deveriamos procurar modelos ou formas melhores de separar nossos dados."
   ]
  }
 ],
 "metadata": {
  "kernelspec": {
   "display_name": "Python 3",
   "language": "python",
   "name": "python3"
  },
  "language_info": {
   "codemirror_mode": {
    "name": "ipython",
    "version": 3
   },
   "file_extension": ".py",
   "mimetype": "text/x-python",
   "name": "python",
   "nbconvert_exporter": "python",
   "pygments_lexer": "ipython3",
   "version": "3.7.4"
  }
 },
 "nbformat": 4,
 "nbformat_minor": 2
}
