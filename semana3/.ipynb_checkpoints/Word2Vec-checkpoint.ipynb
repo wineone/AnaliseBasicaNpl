{
 "cells": [
  {
   "cell_type": "markdown",
   "metadata": {},
   "source": [
    "### Testes básicos com Word2Vec para verificar a eficácia do método."
   ]
  },
  {
   "cell_type": "code",
   "execution_count": 3,
   "metadata": {},
   "outputs": [],
   "source": [
    "import gensim\n",
    "import pandas as pd"
   ]
  },
  {
   "cell_type": "code",
   "execution_count": 5,
   "metadata": {},
   "outputs": [
    {
     "data": {
      "text/html": [
       "<div>\n",
       "<style scoped>\n",
       "    .dataframe tbody tr th:only-of-type {\n",
       "        vertical-align: middle;\n",
       "    }\n",
       "\n",
       "    .dataframe tbody tr th {\n",
       "        vertical-align: top;\n",
       "    }\n",
       "\n",
       "    .dataframe thead th {\n",
       "        text-align: right;\n",
       "    }\n",
       "</style>\n",
       "<table border=\"1\" class=\"dataframe\">\n",
       "  <thead>\n",
       "    <tr style=\"text-align: right;\">\n",
       "      <th></th>\n",
       "      <th>avaliacao</th>\n",
       "      <th>twet</th>\n",
       "      <th>class_label</th>\n",
       "    </tr>\n",
       "  </thead>\n",
       "  <tbody>\n",
       "    <tr>\n",
       "      <td>0</td>\n",
       "      <td>neutral</td>\n",
       "      <td>what  said.</td>\n",
       "      <td>0</td>\n",
       "    </tr>\n",
       "    <tr>\n",
       "      <td>1</td>\n",
       "      <td>positive</td>\n",
       "      <td>plus you've added commercials to the experien...</td>\n",
       "      <td>1</td>\n",
       "    </tr>\n",
       "    <tr>\n",
       "      <td>2</td>\n",
       "      <td>neutral</td>\n",
       "      <td>i didn't today... must mean i need to take an...</td>\n",
       "      <td>0</td>\n",
       "    </tr>\n",
       "    <tr>\n",
       "      <td>3</td>\n",
       "      <td>negative</td>\n",
       "      <td>it's really aggressive to blast obnoxious \"en...</td>\n",
       "      <td>-1</td>\n",
       "    </tr>\n",
       "    <tr>\n",
       "      <td>4</td>\n",
       "      <td>negative</td>\n",
       "      <td>and it's a really big bad thing about it</td>\n",
       "      <td>-1</td>\n",
       "    </tr>\n",
       "    <tr>\n",
       "      <td>...</td>\n",
       "      <td>...</td>\n",
       "      <td>...</td>\n",
       "      <td>...</td>\n",
       "    </tr>\n",
       "    <tr>\n",
       "      <td>14635</td>\n",
       "      <td>positive</td>\n",
       "      <td>thank you we got on a different flight to chi...</td>\n",
       "      <td>1</td>\n",
       "    </tr>\n",
       "    <tr>\n",
       "      <td>14636</td>\n",
       "      <td>negative</td>\n",
       "      <td>leaving over 20 minutes late flight. no warni...</td>\n",
       "      <td>-1</td>\n",
       "    </tr>\n",
       "    <tr>\n",
       "      <td>14637</td>\n",
       "      <td>neutral</td>\n",
       "      <td>please bring american airlines to</td>\n",
       "      <td>0</td>\n",
       "    </tr>\n",
       "    <tr>\n",
       "      <td>14638</td>\n",
       "      <td>negative</td>\n",
       "      <td>you have my money, you change my flight, and ...</td>\n",
       "      <td>-1</td>\n",
       "    </tr>\n",
       "    <tr>\n",
       "      <td>14639</td>\n",
       "      <td>neutral</td>\n",
       "      <td>we have 8 ppl so we need 2 know how many seat...</td>\n",
       "      <td>0</td>\n",
       "    </tr>\n",
       "  </tbody>\n",
       "</table>\n",
       "<p>14640 rows × 3 columns</p>\n",
       "</div>"
      ],
      "text/plain": [
       "      avaliacao                                               twet  \\\n",
       "0       neutral                                        what  said.   \n",
       "1      positive   plus you've added commercials to the experien...   \n",
       "2       neutral   i didn't today... must mean i need to take an...   \n",
       "3      negative   it's really aggressive to blast obnoxious \"en...   \n",
       "4      negative           and it's a really big bad thing about it   \n",
       "...         ...                                                ...   \n",
       "14635  positive   thank you we got on a different flight to chi...   \n",
       "14636  negative   leaving over 20 minutes late flight. no warni...   \n",
       "14637   neutral                 please bring american airlines to    \n",
       "14638  negative   you have my money, you change my flight, and ...   \n",
       "14639   neutral   we have 8 ppl so we need 2 know how many seat...   \n",
       "\n",
       "       class_label  \n",
       "0                0  \n",
       "1                1  \n",
       "2                0  \n",
       "3               -1  \n",
       "4               -1  \n",
       "...            ...  \n",
       "14635            1  \n",
       "14636           -1  \n",
       "14637            0  \n",
       "14638           -1  \n",
       "14639            0  \n",
       "\n",
       "[14640 rows x 3 columns]"
      ]
     },
     "execution_count": 5,
     "metadata": {},
     "output_type": "execute_result"
    }
   ],
   "source": [
    "data = pd.read_csv(\"avaliText.csv\")\n",
    "\n",
    "data"
   ]
  },
  {
   "cell_type": "markdown",
   "metadata": {},
   "source": [
    "### Treinando o word2vec para entender as palavras"
   ]
  },
  {
   "cell_type": "code",
   "execution_count": 11,
   "metadata": {},
   "outputs": [],
   "source": [
    "word2vec = gensim.models.KeyedVectors.load_word2vec_format(\"GoogleNews-vectors-negative300.bin.gz\",binary=True)"
   ]
  },
  {
   "cell_type": "code",
   "execution_count": 1,
   "metadata": {},
   "outputs": [],
   "source": [
    "def get_media(lista):\n",
    "    soma = np.sum(lista,axis=0)\n",
    "    media = np.divide(lista,len(lista))\n",
    "    return media\n",
    "\n",
    "def get_array(text):\n",
    "    lista = gensim.utils.simple_preprocess(text)\n",
    "    lista = [word2vec[pal] for pal in lista]\n",
    "    return get_media(lista)\n",
    "    "
   ]
  },
  {
   "cell_type": "code",
   "execution_count": null,
   "metadata": {},
   "outputs": [],
   "source": [
    "data['array'] = data['tewt'].apply(get_array)"
   ]
  }
 ],
 "metadata": {
  "kernelspec": {
   "display_name": "Python 3",
   "language": "python",
   "name": "python3"
  },
  "language_info": {
   "codemirror_mode": {
    "name": "ipython",
    "version": 3
   },
   "file_extension": ".py",
   "mimetype": "text/x-python",
   "name": "python",
   "nbconvert_exporter": "python",
   "pygments_lexer": "ipython3",
   "version": "3.7.4"
  }
 },
 "nbformat": 4,
 "nbformat_minor": 2
}
