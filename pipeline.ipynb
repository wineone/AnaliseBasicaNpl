{
 "cells": [
  {
   "cell_type": "markdown",
   "metadata": {},
   "source": [
    "Nesse notebook iremos fazer uma breve analise acerca de um dataset sobre a avaliação de uma empresa de acordo com os tuites sobre a mesma; as avaliações podem ser positivas, negativas ou neutras. O inutuito é mostrar um pipeline básico de como fazer um processamento básico de linguagem natural."
   ]
  },
  {
   "cell_type": "code",
   "execution_count": null,
   "metadata": {},
   "outputs": [],
   "source": [
    "O pipeline básico que iremos seguir é:\n",
    "    > limpeza dos dados\n",
    "    > formatação do arquivo csv\n",
    "    > remoção de stop words (se necessário)\n",
    "    > stemmização (se necessário)\n",
    "    > contagem de palavras (CountVectorizer ou TfIdfVectorizer)\n",
    "    > treinamento do modelo\n",
    "    > análise dos resultados (matriz de confusão e palavras com mais peso na escolha das classes)"
   ]
  },
  {
   "cell_type": "markdown",
   "metadata": {},
   "source": [
    "Primeiro iremos importar as bibliotecas que iremos usar ao longo do notebook."
   ]
  },
  {
   "cell_type": "code",
   "execution_count": 66,
   "metadata": {},
   "outputs": [],
   "source": [
    "import pandas as pd\n",
    "import re\n",
    "from matplotlib import pyplot as plt\n",
    "from sklearn.feature_extraction.text import CountVectorizer,TfidfVectorizer\n",
    "from sklearn.linear_model import LogisticRegression\n",
    "from sklearn.model_selection import train_test_split\n",
    "from sklearn.metrics import precision_score,confusion_matrix\n",
    "from nltk.stem.snowball import SnowballStemmer\n",
    "from nltk.corpus import stopwords"
   ]
  },
  {
   "cell_type": "markdown",
   "metadata": {},
   "source": [
    "Iremos agora a primeira etapa que consiste na limpeza dos dados."
   ]
  },
  {
   "cell_type": "markdown",
   "metadata": {},
   "source": [
    "Temos antes de tudo os dados brutos."
   ]
  },
  {
   "cell_type": "code",
   "execution_count": 67,
   "metadata": {
    "scrolled": true
   },
   "outputs": [
    {
     "data": {
      "text/html": [
       "<div>\n",
       "<style scoped>\n",
       "    .dataframe tbody tr th:only-of-type {\n",
       "        vertical-align: middle;\n",
       "    }\n",
       "\n",
       "    .dataframe tbody tr th {\n",
       "        vertical-align: top;\n",
       "    }\n",
       "\n",
       "    .dataframe thead th {\n",
       "        text-align: right;\n",
       "    }\n",
       "</style>\n",
       "<table border=\"1\" class=\"dataframe\">\n",
       "  <thead>\n",
       "    <tr style=\"text-align: right;\">\n",
       "      <th></th>\n",
       "      <th>tweet_id</th>\n",
       "      <th>airline_sentiment</th>\n",
       "      <th>airline_sentiment_confidence</th>\n",
       "      <th>negativereason</th>\n",
       "      <th>negativereason_confidence</th>\n",
       "      <th>airline</th>\n",
       "      <th>airline_sentiment_gold</th>\n",
       "      <th>name</th>\n",
       "      <th>negativereason_gold</th>\n",
       "      <th>retweet_count</th>\n",
       "      <th>text</th>\n",
       "      <th>tweet_coord</th>\n",
       "      <th>tweet_created</th>\n",
       "      <th>tweet_location</th>\n",
       "      <th>user_timezone</th>\n",
       "    </tr>\n",
       "  </thead>\n",
       "  <tbody>\n",
       "    <tr>\n",
       "      <td>0</td>\n",
       "      <td>570306133677760513</td>\n",
       "      <td>neutral</td>\n",
       "      <td>1.0000</td>\n",
       "      <td>NaN</td>\n",
       "      <td>NaN</td>\n",
       "      <td>Virgin America</td>\n",
       "      <td>NaN</td>\n",
       "      <td>cairdin</td>\n",
       "      <td>NaN</td>\n",
       "      <td>0</td>\n",
       "      <td>@VirginAmerica What @dhepburn said.</td>\n",
       "      <td>NaN</td>\n",
       "      <td>2015-02-24 11:35:52 -0800</td>\n",
       "      <td>NaN</td>\n",
       "      <td>Eastern Time (US &amp; Canada)</td>\n",
       "    </tr>\n",
       "    <tr>\n",
       "      <td>1</td>\n",
       "      <td>570301130888122368</td>\n",
       "      <td>positive</td>\n",
       "      <td>0.3486</td>\n",
       "      <td>NaN</td>\n",
       "      <td>0.0000</td>\n",
       "      <td>Virgin America</td>\n",
       "      <td>NaN</td>\n",
       "      <td>jnardino</td>\n",
       "      <td>NaN</td>\n",
       "      <td>0</td>\n",
       "      <td>@VirginAmerica plus you've added commercials t...</td>\n",
       "      <td>NaN</td>\n",
       "      <td>2015-02-24 11:15:59 -0800</td>\n",
       "      <td>NaN</td>\n",
       "      <td>Pacific Time (US &amp; Canada)</td>\n",
       "    </tr>\n",
       "    <tr>\n",
       "      <td>2</td>\n",
       "      <td>570301083672813571</td>\n",
       "      <td>neutral</td>\n",
       "      <td>0.6837</td>\n",
       "      <td>NaN</td>\n",
       "      <td>NaN</td>\n",
       "      <td>Virgin America</td>\n",
       "      <td>NaN</td>\n",
       "      <td>yvonnalynn</td>\n",
       "      <td>NaN</td>\n",
       "      <td>0</td>\n",
       "      <td>@VirginAmerica I didn't today... Must mean I n...</td>\n",
       "      <td>NaN</td>\n",
       "      <td>2015-02-24 11:15:48 -0800</td>\n",
       "      <td>Lets Play</td>\n",
       "      <td>Central Time (US &amp; Canada)</td>\n",
       "    </tr>\n",
       "    <tr>\n",
       "      <td>3</td>\n",
       "      <td>570301031407624196</td>\n",
       "      <td>negative</td>\n",
       "      <td>1.0000</td>\n",
       "      <td>Bad Flight</td>\n",
       "      <td>0.7033</td>\n",
       "      <td>Virgin America</td>\n",
       "      <td>NaN</td>\n",
       "      <td>jnardino</td>\n",
       "      <td>NaN</td>\n",
       "      <td>0</td>\n",
       "      <td>@VirginAmerica it's really aggressive to blast...</td>\n",
       "      <td>NaN</td>\n",
       "      <td>2015-02-24 11:15:36 -0800</td>\n",
       "      <td>NaN</td>\n",
       "      <td>Pacific Time (US &amp; Canada)</td>\n",
       "    </tr>\n",
       "    <tr>\n",
       "      <td>4</td>\n",
       "      <td>570300817074462722</td>\n",
       "      <td>negative</td>\n",
       "      <td>1.0000</td>\n",
       "      <td>Can't Tell</td>\n",
       "      <td>1.0000</td>\n",
       "      <td>Virgin America</td>\n",
       "      <td>NaN</td>\n",
       "      <td>jnardino</td>\n",
       "      <td>NaN</td>\n",
       "      <td>0</td>\n",
       "      <td>@VirginAmerica and it's a really big bad thing...</td>\n",
       "      <td>NaN</td>\n",
       "      <td>2015-02-24 11:14:45 -0800</td>\n",
       "      <td>NaN</td>\n",
       "      <td>Pacific Time (US &amp; Canada)</td>\n",
       "    </tr>\n",
       "    <tr>\n",
       "      <td>...</td>\n",
       "      <td>...</td>\n",
       "      <td>...</td>\n",
       "      <td>...</td>\n",
       "      <td>...</td>\n",
       "      <td>...</td>\n",
       "      <td>...</td>\n",
       "      <td>...</td>\n",
       "      <td>...</td>\n",
       "      <td>...</td>\n",
       "      <td>...</td>\n",
       "      <td>...</td>\n",
       "      <td>...</td>\n",
       "      <td>...</td>\n",
       "      <td>...</td>\n",
       "      <td>...</td>\n",
       "    </tr>\n",
       "    <tr>\n",
       "      <td>14635</td>\n",
       "      <td>569587686496825344</td>\n",
       "      <td>positive</td>\n",
       "      <td>0.3487</td>\n",
       "      <td>NaN</td>\n",
       "      <td>0.0000</td>\n",
       "      <td>American</td>\n",
       "      <td>NaN</td>\n",
       "      <td>KristenReenders</td>\n",
       "      <td>NaN</td>\n",
       "      <td>0</td>\n",
       "      <td>@AmericanAir thank you we got on a different f...</td>\n",
       "      <td>NaN</td>\n",
       "      <td>2015-02-22 12:01:01 -0800</td>\n",
       "      <td>NaN</td>\n",
       "      <td>NaN</td>\n",
       "    </tr>\n",
       "    <tr>\n",
       "      <td>14636</td>\n",
       "      <td>569587371693355008</td>\n",
       "      <td>negative</td>\n",
       "      <td>1.0000</td>\n",
       "      <td>Customer Service Issue</td>\n",
       "      <td>1.0000</td>\n",
       "      <td>American</td>\n",
       "      <td>NaN</td>\n",
       "      <td>itsropes</td>\n",
       "      <td>NaN</td>\n",
       "      <td>0</td>\n",
       "      <td>@AmericanAir leaving over 20 minutes Late Flig...</td>\n",
       "      <td>NaN</td>\n",
       "      <td>2015-02-22 11:59:46 -0800</td>\n",
       "      <td>Texas</td>\n",
       "      <td>NaN</td>\n",
       "    </tr>\n",
       "    <tr>\n",
       "      <td>14637</td>\n",
       "      <td>569587242672398336</td>\n",
       "      <td>neutral</td>\n",
       "      <td>1.0000</td>\n",
       "      <td>NaN</td>\n",
       "      <td>NaN</td>\n",
       "      <td>American</td>\n",
       "      <td>NaN</td>\n",
       "      <td>sanyabun</td>\n",
       "      <td>NaN</td>\n",
       "      <td>0</td>\n",
       "      <td>@AmericanAir Please bring American Airlines to...</td>\n",
       "      <td>NaN</td>\n",
       "      <td>2015-02-22 11:59:15 -0800</td>\n",
       "      <td>Nigeria,lagos</td>\n",
       "      <td>NaN</td>\n",
       "    </tr>\n",
       "    <tr>\n",
       "      <td>14638</td>\n",
       "      <td>569587188687634433</td>\n",
       "      <td>negative</td>\n",
       "      <td>1.0000</td>\n",
       "      <td>Customer Service Issue</td>\n",
       "      <td>0.6659</td>\n",
       "      <td>American</td>\n",
       "      <td>NaN</td>\n",
       "      <td>SraJackson</td>\n",
       "      <td>NaN</td>\n",
       "      <td>0</td>\n",
       "      <td>@AmericanAir you have my money, you change my ...</td>\n",
       "      <td>NaN</td>\n",
       "      <td>2015-02-22 11:59:02 -0800</td>\n",
       "      <td>New Jersey</td>\n",
       "      <td>Eastern Time (US &amp; Canada)</td>\n",
       "    </tr>\n",
       "    <tr>\n",
       "      <td>14639</td>\n",
       "      <td>569587140490866689</td>\n",
       "      <td>neutral</td>\n",
       "      <td>0.6771</td>\n",
       "      <td>NaN</td>\n",
       "      <td>0.0000</td>\n",
       "      <td>American</td>\n",
       "      <td>NaN</td>\n",
       "      <td>daviddtwu</td>\n",
       "      <td>NaN</td>\n",
       "      <td>0</td>\n",
       "      <td>@AmericanAir we have 8 ppl so we need 2 know h...</td>\n",
       "      <td>NaN</td>\n",
       "      <td>2015-02-22 11:58:51 -0800</td>\n",
       "      <td>dallas, TX</td>\n",
       "      <td>NaN</td>\n",
       "    </tr>\n",
       "  </tbody>\n",
       "</table>\n",
       "<p>14640 rows × 15 columns</p>\n",
       "</div>"
      ],
      "text/plain": [
       "                 tweet_id airline_sentiment  airline_sentiment_confidence  \\\n",
       "0      570306133677760513           neutral                        1.0000   \n",
       "1      570301130888122368          positive                        0.3486   \n",
       "2      570301083672813571           neutral                        0.6837   \n",
       "3      570301031407624196          negative                        1.0000   \n",
       "4      570300817074462722          negative                        1.0000   \n",
       "...                   ...               ...                           ...   \n",
       "14635  569587686496825344          positive                        0.3487   \n",
       "14636  569587371693355008          negative                        1.0000   \n",
       "14637  569587242672398336           neutral                        1.0000   \n",
       "14638  569587188687634433          negative                        1.0000   \n",
       "14639  569587140490866689           neutral                        0.6771   \n",
       "\n",
       "               negativereason  negativereason_confidence         airline  \\\n",
       "0                         NaN                        NaN  Virgin America   \n",
       "1                         NaN                     0.0000  Virgin America   \n",
       "2                         NaN                        NaN  Virgin America   \n",
       "3                  Bad Flight                     0.7033  Virgin America   \n",
       "4                  Can't Tell                     1.0000  Virgin America   \n",
       "...                       ...                        ...             ...   \n",
       "14635                     NaN                     0.0000        American   \n",
       "14636  Customer Service Issue                     1.0000        American   \n",
       "14637                     NaN                        NaN        American   \n",
       "14638  Customer Service Issue                     0.6659        American   \n",
       "14639                     NaN                     0.0000        American   \n",
       "\n",
       "      airline_sentiment_gold             name negativereason_gold  \\\n",
       "0                        NaN          cairdin                 NaN   \n",
       "1                        NaN         jnardino                 NaN   \n",
       "2                        NaN       yvonnalynn                 NaN   \n",
       "3                        NaN         jnardino                 NaN   \n",
       "4                        NaN         jnardino                 NaN   \n",
       "...                      ...              ...                 ...   \n",
       "14635                    NaN  KristenReenders                 NaN   \n",
       "14636                    NaN         itsropes                 NaN   \n",
       "14637                    NaN         sanyabun                 NaN   \n",
       "14638                    NaN       SraJackson                 NaN   \n",
       "14639                    NaN        daviddtwu                 NaN   \n",
       "\n",
       "       retweet_count                                               text  \\\n",
       "0                  0                @VirginAmerica What @dhepburn said.   \n",
       "1                  0  @VirginAmerica plus you've added commercials t...   \n",
       "2                  0  @VirginAmerica I didn't today... Must mean I n...   \n",
       "3                  0  @VirginAmerica it's really aggressive to blast...   \n",
       "4                  0  @VirginAmerica and it's a really big bad thing...   \n",
       "...              ...                                                ...   \n",
       "14635              0  @AmericanAir thank you we got on a different f...   \n",
       "14636              0  @AmericanAir leaving over 20 minutes Late Flig...   \n",
       "14637              0  @AmericanAir Please bring American Airlines to...   \n",
       "14638              0  @AmericanAir you have my money, you change my ...   \n",
       "14639              0  @AmericanAir we have 8 ppl so we need 2 know h...   \n",
       "\n",
       "      tweet_coord              tweet_created tweet_location  \\\n",
       "0             NaN  2015-02-24 11:35:52 -0800            NaN   \n",
       "1             NaN  2015-02-24 11:15:59 -0800            NaN   \n",
       "2             NaN  2015-02-24 11:15:48 -0800      Lets Play   \n",
       "3             NaN  2015-02-24 11:15:36 -0800            NaN   \n",
       "4             NaN  2015-02-24 11:14:45 -0800            NaN   \n",
       "...           ...                        ...            ...   \n",
       "14635         NaN  2015-02-22 12:01:01 -0800            NaN   \n",
       "14636         NaN  2015-02-22 11:59:46 -0800          Texas   \n",
       "14637         NaN  2015-02-22 11:59:15 -0800  Nigeria,lagos   \n",
       "14638         NaN  2015-02-22 11:59:02 -0800     New Jersey   \n",
       "14639         NaN  2015-02-22 11:58:51 -0800     dallas, TX   \n",
       "\n",
       "                    user_timezone  \n",
       "0      Eastern Time (US & Canada)  \n",
       "1      Pacific Time (US & Canada)  \n",
       "2      Central Time (US & Canada)  \n",
       "3      Pacific Time (US & Canada)  \n",
       "4      Pacific Time (US & Canada)  \n",
       "...                           ...  \n",
       "14635                         NaN  \n",
       "14636                         NaN  \n",
       "14637                         NaN  \n",
       "14638  Eastern Time (US & Canada)  \n",
       "14639                         NaN  \n",
       "\n",
       "[14640 rows x 15 columns]"
      ]
     },
     "execution_count": 67,
     "metadata": {},
     "output_type": "execute_result"
    }
   ],
   "source": [
    "reviews = pd.read_csv('Tweets.csv')\n",
    "\n",
    "reviews"
   ]
  },
  {
   "cell_type": "markdown",
   "metadata": {},
   "source": [
    "Agora vamos a limpeza básica."
   ]
  },
  {
   "cell_type": "code",
   "execution_count": 68,
   "metadata": {},
   "outputs": [],
   "source": [
    "def limpa(text):\n",
    "    text = re.sub('@\\w+',\"\",text)\n",
    "    text = re.sub('#\\w+','',text)\n",
    "    text = re.sub('https?:\\/\\/[\\w\\.\\/]+[,\"]?','',text)\n",
    "    text = text.lower()\n",
    "    return text\n",
    "\n",
    "def labela(text):\n",
    "    if(text == 'positive'):\n",
    "        return 1\n",
    "    if(text == 'neutral'):\n",
    "        return 2\n",
    "    if(text == 'negative'):\n",
    "        return 3"
   ]
  },
  {
   "cell_type": "code",
   "execution_count": 69,
   "metadata": {
    "scrolled": true
   },
   "outputs": [
    {
     "data": {
      "text/html": [
       "<div>\n",
       "<style scoped>\n",
       "    .dataframe tbody tr th:only-of-type {\n",
       "        vertical-align: middle;\n",
       "    }\n",
       "\n",
       "    .dataframe tbody tr th {\n",
       "        vertical-align: top;\n",
       "    }\n",
       "\n",
       "    .dataframe thead th {\n",
       "        text-align: right;\n",
       "    }\n",
       "</style>\n",
       "<table border=\"1\" class=\"dataframe\">\n",
       "  <thead>\n",
       "    <tr style=\"text-align: right;\">\n",
       "      <th></th>\n",
       "      <th>avaliacao</th>\n",
       "      <th>twet</th>\n",
       "      <th>class_label</th>\n",
       "    </tr>\n",
       "  </thead>\n",
       "  <tbody>\n",
       "    <tr>\n",
       "      <td>0</td>\n",
       "      <td>neutral</td>\n",
       "      <td>what  said.</td>\n",
       "      <td>2</td>\n",
       "    </tr>\n",
       "    <tr>\n",
       "      <td>1</td>\n",
       "      <td>positive</td>\n",
       "      <td>plus you've added commercials to the experien...</td>\n",
       "      <td>1</td>\n",
       "    </tr>\n",
       "    <tr>\n",
       "      <td>2</td>\n",
       "      <td>neutral</td>\n",
       "      <td>i didn't today... must mean i need to take an...</td>\n",
       "      <td>2</td>\n",
       "    </tr>\n",
       "    <tr>\n",
       "      <td>3</td>\n",
       "      <td>negative</td>\n",
       "      <td>it's really aggressive to blast obnoxious \"en...</td>\n",
       "      <td>3</td>\n",
       "    </tr>\n",
       "    <tr>\n",
       "      <td>4</td>\n",
       "      <td>negative</td>\n",
       "      <td>and it's a really big bad thing about it</td>\n",
       "      <td>3</td>\n",
       "    </tr>\n",
       "    <tr>\n",
       "      <td>...</td>\n",
       "      <td>...</td>\n",
       "      <td>...</td>\n",
       "      <td>...</td>\n",
       "    </tr>\n",
       "    <tr>\n",
       "      <td>14635</td>\n",
       "      <td>positive</td>\n",
       "      <td>thank you we got on a different flight to chi...</td>\n",
       "      <td>1</td>\n",
       "    </tr>\n",
       "    <tr>\n",
       "      <td>14636</td>\n",
       "      <td>negative</td>\n",
       "      <td>leaving over 20 minutes late flight. no warni...</td>\n",
       "      <td>3</td>\n",
       "    </tr>\n",
       "    <tr>\n",
       "      <td>14637</td>\n",
       "      <td>neutral</td>\n",
       "      <td>please bring american airlines to</td>\n",
       "      <td>2</td>\n",
       "    </tr>\n",
       "    <tr>\n",
       "      <td>14638</td>\n",
       "      <td>negative</td>\n",
       "      <td>you have my money, you change my flight, and ...</td>\n",
       "      <td>3</td>\n",
       "    </tr>\n",
       "    <tr>\n",
       "      <td>14639</td>\n",
       "      <td>neutral</td>\n",
       "      <td>we have 8 ppl so we need 2 know how many seat...</td>\n",
       "      <td>2</td>\n",
       "    </tr>\n",
       "  </tbody>\n",
       "</table>\n",
       "<p>14640 rows × 3 columns</p>\n",
       "</div>"
      ],
      "text/plain": [
       "      avaliacao                                               twet  \\\n",
       "0       neutral                                        what  said.   \n",
       "1      positive   plus you've added commercials to the experien...   \n",
       "2       neutral   i didn't today... must mean i need to take an...   \n",
       "3      negative   it's really aggressive to blast obnoxious \"en...   \n",
       "4      negative           and it's a really big bad thing about it   \n",
       "...         ...                                                ...   \n",
       "14635  positive   thank you we got on a different flight to chi...   \n",
       "14636  negative   leaving over 20 minutes late flight. no warni...   \n",
       "14637   neutral                 please bring american airlines to    \n",
       "14638  negative   you have my money, you change my flight, and ...   \n",
       "14639   neutral   we have 8 ppl so we need 2 know how many seat...   \n",
       "\n",
       "       class_label  \n",
       "0                2  \n",
       "1                1  \n",
       "2                2  \n",
       "3                3  \n",
       "4                3  \n",
       "...            ...  \n",
       "14635            1  \n",
       "14636            3  \n",
       "14637            2  \n",
       "14638            3  \n",
       "14639            2  \n",
       "\n",
       "[14640 rows x 3 columns]"
      ]
     },
     "execution_count": 69,
     "metadata": {},
     "output_type": "execute_result"
    }
   ],
   "source": [
    "novo = pd.DataFrame()\n",
    "\n",
    "novo['avaliacao'] = reviews['airline_sentiment']\n",
    "novo['twet'] = reviews['text']\n",
    "\n",
    "novo['twet'] = novo['twet'].apply(limpa)\n",
    "\n",
    "novo['class_label'] = novo['avaliacao'].apply(labela)\n",
    "\n",
    "\n",
    "novo.to_csv('avaliText.csv',index=False)\n",
    "\n",
    "novo"
   ]
  },
  {
   "cell_type": "markdown",
   "metadata": {},
   "source": [
    "Removemos @'s e #'s e também links para deixar no texto só o corpo e colocamos tudo em lower case, depois rotulamos as avaliações: 1 para positivos, 2 neutro, e 3 negativo."
   ]
  },
  {
   "cell_type": "markdown",
   "metadata": {},
   "source": [
    "Agora veremos a distrubuição das avaliações, procurando a quantidade de elementos em cada classe."
   ]
  },
  {
   "cell_type": "code",
   "execution_count": 70,
   "metadata": {},
   "outputs": [
    {
     "data": {
      "text/html": [
       "<div>\n",
       "<style scoped>\n",
       "    .dataframe tbody tr th:only-of-type {\n",
       "        vertical-align: middle;\n",
       "    }\n",
       "\n",
       "    .dataframe tbody tr th {\n",
       "        vertical-align: top;\n",
       "    }\n",
       "\n",
       "    .dataframe thead th {\n",
       "        text-align: right;\n",
       "    }\n",
       "</style>\n",
       "<table border=\"1\" class=\"dataframe\">\n",
       "  <thead>\n",
       "    <tr style=\"text-align: right;\">\n",
       "      <th></th>\n",
       "      <th>twet</th>\n",
       "      <th>class_label</th>\n",
       "    </tr>\n",
       "    <tr>\n",
       "      <th>avaliacao</th>\n",
       "      <th></th>\n",
       "      <th></th>\n",
       "    </tr>\n",
       "  </thead>\n",
       "  <tbody>\n",
       "    <tr>\n",
       "      <td>negative</td>\n",
       "      <td>9178</td>\n",
       "      <td>9178</td>\n",
       "    </tr>\n",
       "    <tr>\n",
       "      <td>neutral</td>\n",
       "      <td>3099</td>\n",
       "      <td>3099</td>\n",
       "    </tr>\n",
       "    <tr>\n",
       "      <td>positive</td>\n",
       "      <td>2363</td>\n",
       "      <td>2363</td>\n",
       "    </tr>\n",
       "  </tbody>\n",
       "</table>\n",
       "</div>"
      ],
      "text/plain": [
       "           twet  class_label\n",
       "avaliacao                   \n",
       "negative   9178         9178\n",
       "neutral    3099         3099\n",
       "positive   2363         2363"
      ]
     },
     "execution_count": 70,
     "metadata": {},
     "output_type": "execute_result"
    }
   ],
   "source": [
    "limpos = pd.read_csv('avaliText.csv')\n",
    "\n",
    "limpos.groupby('avaliacao').count()"
   ]
  },
  {
   "cell_type": "markdown",
   "metadata": {},
   "source": [
    "Vemos então que a quantidade de tuites negativos sobre a empresa é bem maior que positivos e negativos, já podemos retirar informações sobre isso: o que pode significar que a empresa não fornece um bom serviço, ou os dados são viesados."
   ]
  },
  {
   "cell_type": "markdown",
   "metadata": {},
   "source": [
    "Agora veremos as palavras mais frequentes de cada classe para verificar se isso nos trás alguma nova informação."
   ]
  },
  {
   "cell_type": "code",
   "execution_count": 71,
   "metadata": {},
   "outputs": [],
   "source": [
    "def plota_mais_ocorridas(data,label,legenda,cv):\n",
    "    count = cv\n",
    "    count.fit(data[label])\n",
    "    dic = count.vocabulary_.items()\n",
    "\n",
    "    vocab = []\n",
    "    count = []\n",
    "\n",
    "    for v,c in dic:\n",
    "        vocab.append(v)\n",
    "        count.append(c)\n",
    "    \n",
    "    serie = pd.Series(count,index=vocab)\n",
    "\n",
    "    serie_ordenada = serie.sort_values(ascending=False)\n",
    "\n",
    "    top_serie = serie_ordenada.head(20)\n",
    "\n",
    "    top_serie.plot(kind = 'barh')\n",
    "\n",
    "    plt.title(legenda)\n",
    "\n",
    "    plt.show()"
   ]
  },
  {
   "cell_type": "code",
   "execution_count": 72,
   "metadata": {},
   "outputs": [
    {
     "data": {
      "image/png": "[encoded data removed]",
      "text/plain": [
       "<Figure size 432x288 with 1 Axes>"
      ]
     },
     "metadata": {
      "needs_background": "light"
     },
     "output_type": "display_data"
    }
   ],
   "source": [
    "limpos['twet'] = limpos['twet'].apply(stemma)\n",
    "\n",
    "positivas = limpos[limpos['class_label'] == 1]\n",
    "neutras = limpos[limpos['class_label'] == 2]\n",
    "negativas = limpos[limpos['class_label'] == 3]\n",
    "\n",
    "cv = TfidfVectorizer()\n",
    "plota_mais_ocorridas(positivas,'twet',\"positivas\",cv)\n"
   ]
  },
  {
   "cell_type": "code",
   "execution_count": 73,
   "metadata": {},
   "outputs": [
    {
     "data": {
      "image/png": "[encoded data removed]",
      "text/plain": [
       "<Figure size 432x288 with 1 Axes>"
      ]
     },
     "metadata": {
      "needs_background": "light"
     },
     "output_type": "display_data"
    }
   ],
   "source": [
    "plota_mais_ocorridas(negativas,'twet','negativas',cv)"
   ]
  },
  {
   "cell_type": "code",
   "execution_count": 74,
   "metadata": {},
   "outputs": [
    {
     "data": {
      "image/png": "[encoded data removed]",
      "text/plain": [
       "<Figure size 432x288 with 1 Axes>"
      ]
     },
     "metadata": {
      "needs_background": "light"
     },
     "output_type": "display_data"
    }
   ],
   "source": [
    "plota_mais_ocorridas(neutras,'twet',\"neutras\",cv)"
   ]
  },
  {
   "cell_type": "markdown",
   "metadata": {},
   "source": [
    "As palavras mais frequentes de cada classe não nos fornecem boas estimativas sobre os representantes de cada classe."
   ]
  },
  {
   "cell_type": "markdown",
   "metadata": {},
   "source": [
    "Ainda com os dados em parte brutos vamos treinar um modelo (Regressão logística) para ver como ele se sai."
   ]
  },
  {
   "cell_type": "code",
   "execution_count": 75,
   "metadata": {},
   "outputs": [],
   "source": [
    "cv = CountVectorizer()\n",
    "\n",
    "twets = limpos['twet'].tolist()\n",
    "classe = limpos['class_label'].tolist()\n",
    "\n",
    "xtrain,ytest, xright, yright = train_test_split(twets,classe)\n",
    "\n",
    "xtrain = cv.fit_transform(xtrain)\n",
    "ytest = cv.transform(ytest)"
   ]
  },
  {
   "cell_type": "markdown",
   "metadata": {},
   "source": [
    "Criamos os splits de teste para treinar e testar nosso modelo."
   ]
  },
  {
   "cell_type": "code",
   "execution_count": 76,
   "metadata": {},
   "outputs": [],
   "source": [
    "model = LogisticRegression(solver='newton-cg',multi_class='multinomial')\n",
    "\n",
    "model.fit(xtrain,xright)\n",
    "\n",
    "output = model.predict(ytest)"
   ]
  },
  {
   "cell_type": "markdown",
   "metadata": {},
   "source": [
    "E treinamos."
   ]
  },
  {
   "cell_type": "markdown",
   "metadata": {},
   "source": [
    "Vamos analisar os resultados do nosso modelo de treinamento."
   ]
  },
  {
   "cell_type": "code",
   "execution_count": 77,
   "metadata": {},
   "outputs": [
    {
     "name": "stdout",
     "output_type": "stream",
     "text": [
      "Tivemos uma precisão de: 0.7791173309009559\n"
     ]
    }
   ],
   "source": [
    "precision = precision_score(yright,output,average='weighted',pos_label=None)\n",
    "\n",
    "print(\"Tivemos uma precisão de:\",precision)"
   ]
  },
  {
   "cell_type": "code",
   "execution_count": 78,
   "metadata": {},
   "outputs": [
    {
     "name": "stdout",
     "output_type": "stream",
     "text": [
      "E a matriz de confusão, note que ela está indexada de 1 2 3 da esquerda para direita e 1 2 3 de cima para baixo\n",
      "[[ 378   84  114]\n",
      " [  78  441  246]\n",
      " [  71  199 2049]]\n"
     ]
    }
   ],
   "source": [
    "print(\"E a matriz de confusão, note que ela está indexada de 1 2 3 da esquerda para direita e 1 2 3 de cima para baixo\")\n",
    "cm = confusion_matrix(yright,output)\n",
    "\n",
    "print(cm)\n"
   ]
  },
  {
   "cell_type": "markdown",
   "metadata": {},
   "source": [
    "Note que nosso maior erro foi de classificar tuites negativos como positivos e neutros, mas os resultados foram bons."
   ]
  },
  {
   "cell_type": "markdown",
   "metadata": {},
   "source": [
    "Agora veremos quais palavras tiveram mais peso para classificar os tuites como positivo, neutro ou negativo."
   ]
  },
  {
   "cell_type": "code",
   "execution_count": 79,
   "metadata": {},
   "outputs": [],
   "source": [
    "def get_most_important(cv,model,n = 10):\n",
    "    dici = {v:k for k,v in cv.vocabulary_.items()}\n",
    "\n",
    "    classes = {}\n",
    "\n",
    "    for i in range(len(model.coef_)):\n",
    "        palavras = [(dici[indice],peso) for indice,peso in enumerate(model.coef_[i])]\n",
    "        palavras = sorted(palavras,key=lambda x: x[1],reverse=True)\n",
    "        classes[i+1] = palavras[:n]\n",
    "\n",
    "    return classes\n"
   ]
  },
  {
   "cell_type": "code",
   "execution_count": 80,
   "metadata": {},
   "outputs": [
    {
     "name": "stdout",
     "output_type": "stream",
     "text": [
      "\n",
      "Positivas:\n",
      "great 2.3335751001587948\n",
      "thanks 2.0072540315533236\n",
      "awesome 1.9857881567812532\n",
      "thank 1.9540156572986214\n",
      "love 1.7585297204120443\n",
      "best 1.6894022627972636\n",
      "amaz 1.6482674399901185\n",
      "thx 1.6034585621134725\n",
      "excel 1.552110144008717\n",
      "excit 1.5078539123192793\n"
     ]
    }
   ],
   "source": [
    "dicionario = get_most_important(cv,model,10)\n",
    "\n",
    "print(\"\\nPositivas:\")\n",
    "for i, j in dicionario[1]:\n",
    "    print(i,j)\n"
   ]
  },
  {
   "cell_type": "code",
   "execution_count": 81,
   "metadata": {},
   "outputs": [
    {
     "name": "stdout",
     "output_type": "stream",
     "text": [
      "\n",
      "Neutras\n",
      "polici 1.3281924358375352\n",
      "winner 1.2342577296040116\n",
      "appli 1.1679301953749988\n",
      "winter 1.1601468612725903\n",
      "suggestions 1.126719641162609\n",
      "mexico 1.1222278651173647\n",
      "upcom 1.0581813290186926\n",
      "tourist 1.009371681358588\n",
      "28 1.007622113078772\n",
      "cal 0.9566131620698416\n"
     ]
    }
   ],
   "source": [
    "\n",
    "print(\"\\nNeutras\")\n",
    "for i, j in dicionario[2]:\n",
    "    print(i,j)\n"
   ]
  },
  {
   "cell_type": "code",
   "execution_count": 82,
   "metadata": {},
   "outputs": [
    {
     "name": "stdout",
     "output_type": "stream",
     "text": [
      "\n",
      "Negativas\n",
      "worst 2.4978890270185925\n",
      "nothing 1.9327141858913433\n",
      "suck 1.4953083434379602\n",
      "rude 1.4408330131116374\n",
      "communic 1.4265040552042112\n",
      "delayed 1.4214194929008843\n",
      "delay 1.3893771909272743\n",
      "lost 1.388978759801894\n",
      "fuck 1.3817349080504013\n",
      "lie 1.3762218680380474\n"
     ]
    }
   ],
   "source": [
    "\n",
    "print(\"\\nNegativas\")\n",
    "for i, j in dicionario[3]:\n",
    "    print(i,j)\n"
   ]
  },
  {
   "cell_type": "markdown",
   "metadata": {},
   "source": [
    "Como podemos ver, as palavras com mais peso para classificar positivas e negativas parecem corresponder\n",
    "ao esperado, mas as usadas para classificar neutros parecem um pouco aleatórias."
   ]
  },
  {
   "cell_type": "markdown",
   "metadata": {},
   "source": [
    "Tentaremos refinar mais nossos dados para verificar se conseguimos resultados melhores usando stemmização, removendo stop words e para a bag of words usaremos tfidf."
   ]
  },
  {
   "cell_type": "code",
   "execution_count": 83,
   "metadata": {},
   "outputs": [],
   "source": [
    "def stemma(text):\n",
    "\n",
    "    words = [stemmer.stem(word) for word in text.split()]\n",
    "    return \" \".join(words)\n",
    "\n",
    "sw = stopwords.words('english')\n",
    "\n",
    "def remove_stop(text):\n",
    "    words = [word for word in text.split() if word not in sw]\n",
    "    return \" \".join(words)"
   ]
  },
  {
   "cell_type": "code",
   "execution_count": 95,
   "metadata": {},
   "outputs": [
    {
     "data": {
      "text/html": [
       "<div>\n",
       "<style scoped>\n",
       "    .dataframe tbody tr th:only-of-type {\n",
       "        vertical-align: middle;\n",
       "    }\n",
       "\n",
       "    .dataframe tbody tr th {\n",
       "        vertical-align: top;\n",
       "    }\n",
       "\n",
       "    .dataframe thead th {\n",
       "        text-align: right;\n",
       "    }\n",
       "</style>\n",
       "<table border=\"1\" class=\"dataframe\">\n",
       "  <thead>\n",
       "    <tr style=\"text-align: right;\">\n",
       "      <th></th>\n",
       "      <th>avaliacao</th>\n",
       "      <th>twet</th>\n",
       "      <th>class_label</th>\n",
       "    </tr>\n",
       "  </thead>\n",
       "  <tbody>\n",
       "    <tr>\n",
       "      <td>0</td>\n",
       "      <td>neutral</td>\n",
       "      <td>said.</td>\n",
       "      <td>2</td>\n",
       "    </tr>\n",
       "    <tr>\n",
       "      <td>1</td>\n",
       "      <td>positive</td>\n",
       "      <td>plus you'v ad commerci experience... tacky.</td>\n",
       "      <td>1</td>\n",
       "    </tr>\n",
       "    <tr>\n",
       "      <td>2</td>\n",
       "      <td>neutral</td>\n",
       "      <td>today... must mean need take anoth trip!</td>\n",
       "      <td>2</td>\n",
       "    </tr>\n",
       "    <tr>\n",
       "      <td>3</td>\n",
       "      <td>negative</td>\n",
       "      <td>realli aggress blast obnoxi \"entertainment\" gu...</td>\n",
       "      <td>3</td>\n",
       "    </tr>\n",
       "    <tr>\n",
       "      <td>4</td>\n",
       "      <td>negative</td>\n",
       "      <td>realli big bad thing</td>\n",
       "      <td>3</td>\n",
       "    </tr>\n",
       "    <tr>\n",
       "      <td>...</td>\n",
       "      <td>...</td>\n",
       "      <td>...</td>\n",
       "      <td>...</td>\n",
       "    </tr>\n",
       "    <tr>\n",
       "      <td>14635</td>\n",
       "      <td>positive</td>\n",
       "      <td>thank got differ flight chicago.</td>\n",
       "      <td>1</td>\n",
       "    </tr>\n",
       "    <tr>\n",
       "      <td>14636</td>\n",
       "      <td>negative</td>\n",
       "      <td>leav 20 minut late flight. warn communic 15 mi...</td>\n",
       "      <td>3</td>\n",
       "    </tr>\n",
       "    <tr>\n",
       "      <td>14637</td>\n",
       "      <td>neutral</td>\n",
       "      <td>plea bring american airlin</td>\n",
       "      <td>2</td>\n",
       "    </tr>\n",
       "    <tr>\n",
       "      <td>14638</td>\n",
       "      <td>negative</td>\n",
       "      <td>money, chang flight, answer phones! ani sugges...</td>\n",
       "      <td>3</td>\n",
       "    </tr>\n",
       "    <tr>\n",
       "      <td>14639</td>\n",
       "      <td>neutral</td>\n",
       "      <td>8 ppl need 2 know mani seat next flight. plz p...</td>\n",
       "      <td>2</td>\n",
       "    </tr>\n",
       "  </tbody>\n",
       "</table>\n",
       "<p>14640 rows × 3 columns</p>\n",
       "</div>"
      ],
      "text/plain": [
       "      avaliacao                                               twet  \\\n",
       "0       neutral                                              said.   \n",
       "1      positive        plus you'v ad commerci experience... tacky.   \n",
       "2       neutral           today... must mean need take anoth trip!   \n",
       "3      negative  realli aggress blast obnoxi \"entertainment\" gu...   \n",
       "4      negative                               realli big bad thing   \n",
       "...         ...                                                ...   \n",
       "14635  positive                   thank got differ flight chicago.   \n",
       "14636  negative  leav 20 minut late flight. warn communic 15 mi...   \n",
       "14637   neutral                         plea bring american airlin   \n",
       "14638  negative  money, chang flight, answer phones! ani sugges...   \n",
       "14639   neutral  8 ppl need 2 know mani seat next flight. plz p...   \n",
       "\n",
       "       class_label  \n",
       "0                2  \n",
       "1                1  \n",
       "2                2  \n",
       "3                3  \n",
       "4                3  \n",
       "...            ...  \n",
       "14635            1  \n",
       "14636            3  \n",
       "14637            2  \n",
       "14638            3  \n",
       "14639            2  \n",
       "\n",
       "[14640 rows x 3 columns]"
      ]
     },
     "execution_count": 95,
     "metadata": {},
     "output_type": "execute_result"
    }
   ],
   "source": [
    "limpos['twet'] = limpos['twet'].apply(stemma)\n",
    "limpos['twet'] = limpos['twet'].apply(remove_stop)\n",
    "\n",
    "limpos"
   ]
  },
  {
   "cell_type": "markdown",
   "metadata": {},
   "source": [
    "Aplicamos a stemmização e removemos stop words."
   ]
  },
  {
   "cell_type": "code",
   "execution_count": 113,
   "metadata": {},
   "outputs": [],
   "source": [
    "cv = TfidfVectorizer()\n",
    "\n",
    "twets = limpos['twet'].tolist()\n",
    "classe = limpos['class_label'].tolist()\n",
    "\n",
    "xtrain,ytest, xright, yright = train_test_split(twets,classe)\n",
    "\n",
    "xtrain = cv.fit_transform(xtrain)\n",
    "ytest = cv.transform(ytest)"
   ]
  },
  {
   "cell_type": "markdown",
   "metadata": {},
   "source": [
    "Usamos tfidf para contar a frequencia das palavras no texto."
   ]
  },
  {
   "cell_type": "code",
   "execution_count": 114,
   "metadata": {},
   "outputs": [],
   "source": [
    "model = LogisticRegression(solver='newton-cg',multi_class='multinomial')\n",
    "\n",
    "model.fit(xtrain,xright)\n",
    "\n",
    "output = model.predict(ytest)"
   ]
  },
  {
   "cell_type": "markdown",
   "metadata": {},
   "source": [
    "E treinamos nosso modelo."
   ]
  },
  {
   "cell_type": "markdown",
   "metadata": {},
   "source": [
    "Agora vamos verificar os resultados que nós conseguimos."
   ]
  },
  {
   "cell_type": "code",
   "execution_count": 115,
   "metadata": {},
   "outputs": [
    {
     "name": "stdout",
     "output_type": "stream",
     "text": [
      "Tivemos uma precisão de: 0.7692754715560198\n"
     ]
    }
   ],
   "source": [
    "precision = precision_score(yright,output,average='weighted',pos_label=None)\n",
    "\n",
    "print(\"Tivemos uma precisão de:\",precision)"
   ]
  },
  {
   "cell_type": "markdown",
   "metadata": {},
   "source": [
    "Uma precisão um pouco menor que obtivemos nos dados brutos. Vamos investigar por que isso aconteceu mesmo tratando mais os dados."
   ]
  },
  {
   "cell_type": "code",
   "execution_count": 116,
   "metadata": {},
   "outputs": [
    {
     "name": "stdout",
     "output_type": "stream",
     "text": [
      "\n",
      "A a matriz de confusão, note que ela está indexada de 1 2 3 da esquerda para direita e 1 2 3 de cima para baixo\n",
      "[[ 351   67  194]\n",
      " [  48  357  394]\n",
      " [  29   93 2127]]\n"
     ]
    }
   ],
   "source": [
    "print(\"\\nA a matriz de confusão, note que ela está indexada de 1 2 3 da esquerda para direita e 1 2 3 de cima para baixo\")\n",
    "cm = confusion_matrix(yright,output)\n",
    "\n",
    "print(cm)"
   ]
  },
  {
   "cell_type": "markdown",
   "metadata": {},
   "source": [
    "O maior erro ainda se concentra nas palavras neutras. Vamos investigar as palavras mais usadas."
   ]
  },
  {
   "cell_type": "code",
   "execution_count": 117,
   "metadata": {},
   "outputs": [],
   "source": [
    "dicionario = get_most_important(cv,model,10)"
   ]
  },
  {
   "cell_type": "code",
   "execution_count": 118,
   "metadata": {},
   "outputs": [
    {
     "name": "stdout",
     "output_type": "stream",
     "text": [
      "\n",
      "Positivas:\n",
      "thank 5.070381037353747\n",
      "great 4.123738749468479\n",
      "love 3.579662003524857\n",
      "thanks 3.460729938640896\n",
      "best 2.8452911383726103\n",
      "awesome 2.759432141676079\n",
      "awesom 2.589782707334518\n",
      "thx 2.4976575312192693\n",
      "amazing 2.387884765573726\n",
      "appreci 2.213853355807162\n"
     ]
    }
   ],
   "source": [
    "print(\"\\nPositivas:\")\n",
    "for i, j in dicionario[1]:\n",
    "    print(i,j)"
   ]
  },
  {
   "cell_type": "code",
   "execution_count": 119,
   "metadata": {},
   "outputs": [
    {
     "name": "stdout",
     "output_type": "stream",
     "text": [
      "\n",
      "Neutras\n",
      "ani 1.945759018457799\n",
      "hi 1.7278346419535886\n",
      "question 1.6501060253845043\n",
      "polici 1.5584318869425093\n",
      "possibl 1.4573958219648866\n",
      "current 1.3879242252320723\n",
      "saw 1.3586066285690819\n",
      "tomorrow 1.2710735109536584\n",
      "dm 1.2555536911055913\n",
      "winner 1.234030511677877\n"
     ]
    }
   ],
   "source": [
    "print(\"\\nNeutras\")\n",
    "for i, j in dicionario[2]:\n",
    "    print(i,j)\n"
   ]
  },
  {
   "cell_type": "code",
   "execution_count": 120,
   "metadata": {},
   "outputs": [
    {
     "name": "stdout",
     "output_type": "stream",
     "text": [
      "\n",
      "Neegativas\n",
      "hour 3.796905436215692\n",
      "hold 3.1708137422688067\n",
      "worst 3.122152027805165\n",
      "delay 3.0834200085817165\n",
      "cancel 2.8171289940770228\n",
      "bag 2.5593374903185095\n",
      "call 2.471659492947176\n",
      "becaus 2.329451235341278\n",
      "whi 2.285438384595567\n",
      "luggag 2.23492703068891\n"
     ]
    }
   ],
   "source": [
    "print(\"\\nNegativas\")\n",
    "for i, j in dicionario[3]:\n",
    "    print(i,j)"
   ]
  },
  {
   "cell_type": "markdown",
   "metadata": {},
   "source": [
    "Vemos que mesmo limpando os dados as palavras mais utilizadas não mudaram tanto, talvez devessemos tentar limpar nossos dados ou até procurar outro modelo que melhor represente essa situação."
   ]
  }
 ],
 "metadata": {
  "kernelspec": {
   "display_name": "Python 3",
   "language": "python",
   "name": "python3"
  },
  "language_info": {
   "codemirror_mode": {
    "name": "ipython",
    "version": 3
   },
   "file_extension": ".py",
   "mimetype": "text/x-python",
   "name": "python",
   "nbconvert_exporter": "python",
   "pygments_lexer": "ipython3",
   "version": "3.7.4"
  }
 },
 "nbformat": 4,
 "nbformat_minor": 2
}
